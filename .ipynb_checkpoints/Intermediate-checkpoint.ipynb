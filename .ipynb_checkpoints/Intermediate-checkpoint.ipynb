{
 "cells": [
  {
   "cell_type": "markdown",
   "id": "a459e600",
   "metadata": {},
   "source": [
    "## Functions"
   ]
  },
  {
   "cell_type": "markdown",
   "id": "eb8d9490",
   "metadata": {},
   "source": [
    "Function, the building blocks of Julia, is a collected group of instructions that maps a tuple of argument values to a return value. It acts as the subroutines, procedures, blocks, and other similar structures concepts found in other programming languages.\n",
    "\n",
    "### Defining Functions\n",
    "There are following three ways in which we can define functions −\n",
    "\n",
    "When there is a single expression in a function, you can define it by writing the name of the function and any arguments in parentheses on the left side and write an expression on the right side of an equal sign."
   ]
  },
  {
   "cell_type": "code",
   "execution_count": 1,
   "id": "a8ef2166",
   "metadata": {},
   "outputs": [
    {
     "data": {
      "text/plain": [
       "f (generic function with 1 method)"
      ]
     },
     "execution_count": 1,
     "metadata": {},
     "output_type": "execute_result"
    }
   ],
   "source": [
    "f(a) = a * a"
   ]
  },
  {
   "cell_type": "code",
   "execution_count": 2,
   "id": "20e2990e",
   "metadata": {},
   "outputs": [
    {
     "data": {
      "text/plain": [
       "25"
      ]
     },
     "execution_count": 2,
     "metadata": {},
     "output_type": "execute_result"
    }
   ],
   "source": [
    "f(5)"
   ]
  },
  {
   "cell_type": "code",
   "execution_count": 3,
   "id": "27c69d52",
   "metadata": {},
   "outputs": [
    {
     "data": {
      "text/plain": [
       "func (generic function with 1 method)"
      ]
     },
     "execution_count": 3,
     "metadata": {},
     "output_type": "execute_result"
    }
   ],
   "source": [
    "func(x, y) = sqrt(x^2 + y^2)"
   ]
  },
  {
   "cell_type": "code",
   "execution_count": 4,
   "id": "5dad0820",
   "metadata": {},
   "outputs": [
    {
     "data": {
      "text/plain": [
       "6.4031242374328485"
      ]
     },
     "execution_count": 4,
     "metadata": {},
     "output_type": "execute_result"
    }
   ],
   "source": [
    "func(5,4)"
   ]
  },
  {
   "cell_type": "raw",
   "id": "633e03dc",
   "metadata": {},
   "source": [
    "# If there are multiple expressions in a function, you can define it as shown below −\n",
    "\n",
    "function functionname(args)\n",
    "   expression\n",
    "   expression\n",
    "   expression\n",
    "   ...\n",
    "   expression\n",
    "end"
   ]
  },
  {
   "cell_type": "code",
   "execution_count": 7,
   "id": "3e06f218",
   "metadata": {},
   "outputs": [
    {
     "data": {
      "text/plain": [
       "bills (generic function with 1 method)"
      ]
     },
     "execution_count": 7,
     "metadata": {},
     "output_type": "execute_result"
    }
   ],
   "source": [
    "function bills(money)\n",
    "      if money < 0\n",
    "         return false\n",
    "      else\n",
    "         return true\n",
    "end\n",
    "   end"
   ]
  },
  {
   "cell_type": "code",
   "execution_count": 9,
   "id": "957fdea2",
   "metadata": {},
   "outputs": [
    {
     "data": {
      "text/plain": [
       "bills (generic function with 1 method)"
      ]
     },
     "execution_count": 9,
     "metadata": {},
     "output_type": "execute_result"
    }
   ],
   "source": [
    "function bills(money)\n",
    "      if money < 0\n",
    "         return false\n",
    "      else\n",
    "         return true\n",
    "end\n",
    "end"
   ]
  },
  {
   "cell_type": "code",
   "execution_count": 10,
   "id": "a91ec9c4",
   "metadata": {},
   "outputs": [
    {
     "data": {
      "text/plain": [
       "check_bills (generic function with 1 method)"
      ]
     },
     "execution_count": 10,
     "metadata": {},
     "output_type": "execute_result"
    }
   ],
   "source": [
    "function check_bills(money)\n",
    "    if money > 100\n",
    "        return true\n",
    "    else\n",
    "        return false\n",
    "    end\n",
    "end"
   ]
  },
  {
   "cell_type": "code",
   "execution_count": 11,
   "id": "50760057",
   "metadata": {},
   "outputs": [
    {
     "data": {
      "text/plain": [
       "false"
      ]
     },
     "execution_count": 11,
     "metadata": {},
     "output_type": "execute_result"
    }
   ],
   "source": [
    "bills(-9)"
   ]
  },
  {
   "cell_type": "code",
   "execution_count": 12,
   "id": "61eff40c",
   "metadata": {},
   "outputs": [
    {
     "data": {
      "text/plain": [
       "true"
      ]
     },
     "execution_count": 12,
     "metadata": {},
     "output_type": "execute_result"
    }
   ],
   "source": [
    "bills(9)"
   ]
  },
  {
   "cell_type": "code",
   "execution_count": 13,
   "id": "da2a7cfd",
   "metadata": {},
   "outputs": [
    {
     "data": {
      "text/plain": [
       "false"
      ]
     },
     "execution_count": 13,
     "metadata": {},
     "output_type": "execute_result"
    }
   ],
   "source": [
    "check_bills(100)"
   ]
  },
  {
   "cell_type": "code",
   "execution_count": 14,
   "id": "38b047f0",
   "metadata": {},
   "outputs": [
    {
     "data": {
      "text/plain": [
       "true"
      ]
     },
     "execution_count": 14,
     "metadata": {},
     "output_type": "execute_result"
    }
   ],
   "source": [
    "check_bills(900)"
   ]
  },
  {
   "cell_type": "code",
   "execution_count": 16,
   "id": "b4923a12",
   "metadata": {},
   "outputs": [
    {
     "data": {
      "text/plain": [
       "mul (generic function with 1 method)"
      ]
     },
     "execution_count": 16,
     "metadata": {},
     "output_type": "execute_result"
    }
   ],
   "source": [
    "function mul(x,y)\n",
    "                  x+y, x*y\n",
    "               end"
   ]
  },
  {
   "cell_type": "code",
   "execution_count": 17,
   "id": "843750d7",
   "metadata": {},
   "outputs": [
    {
     "data": {
      "text/plain": [
       "(15, 50)"
      ]
     },
     "execution_count": 17,
     "metadata": {},
     "output_type": "execute_result"
    }
   ],
   "source": [
    "mul(5, 10)"
   ]
  },
  {
   "cell_type": "markdown",
   "id": "bc2afd1a",
   "metadata": {},
   "source": [
    "### Optional Arguments\n",
    "It is often possible to define functions with optional arguments i.e. default sensible values for functions arguments so that the function can use that value if specific values are not provided. For example −"
   ]
  },
  {
   "cell_type": "code",
   "execution_count": 18,
   "id": "e93db974",
   "metadata": {},
   "outputs": [
    {
     "data": {
      "text/plain": [
       "pos (generic function with 2 methods)"
      ]
     },
     "execution_count": 18,
     "metadata": {},
     "output_type": "execute_result"
    }
   ],
   "source": [
    "function pos(ax, by, cz=0)\n",
    "         println(\"$ax, $by, $cz\")\n",
    "      end"
   ]
  },
  {
   "cell_type": "code",
   "execution_count": 20,
   "id": "6156587d",
   "metadata": {},
   "outputs": [
    {
     "name": "stdout",
     "output_type": "stream",
     "text": [
      "v, d, 0\n"
     ]
    }
   ],
   "source": [
    "pos('v', 'd')"
   ]
  },
  {
   "cell_type": "markdown",
   "id": "aa3e9f79",
   "metadata": {},
   "source": [
    "### Keyword Arguments\n",
    "Some functions which we define need a large number of arguments but calling such functions can be difficult because we may forget the order in which we have to supply the arguments. For example, check the below function −"
   ]
  },
  {
   "cell_type": "raw",
   "id": "3236385a",
   "metadata": {},
   "source": [
    "function foo(a, b, c, d, e, f)\n",
    "...\n",
    "end"
   ]
  },
  {
   "cell_type": "raw",
   "id": "81fe5355",
   "metadata": {},
   "source": [
    "Now, we may forget the order of arguments and the following may happen −\n",
    "\n",
    "foo(“25”, -5.6987, “hello”, 56, good, ‘ABC’)\n",
    "or\n",
    "foo(“hello”, 56, “25”, -5.6987, ‘ABC’, good)\n"
   ]
  },
  {
   "cell_type": "markdown",
   "id": "f0e41631",
   "metadata": {},
   "source": [
    "Julia provides us a way to avoid this problem. We can use keywords to label arguments. We need to use a semicolon after the function’s unlabelled arguments and follow it with one or more keyword-value pair as follows −"
   ]
  },
  {
   "cell_type": "code",
   "execution_count": 21,
   "id": "0a7f78f7",
   "metadata": {},
   "outputs": [
    {
     "data": {
      "text/plain": [
       "foo (generic function with 1 method)"
      ]
     },
     "execution_count": 21,
     "metadata": {},
     "output_type": "execute_result"
    }
   ],
   "source": [
    "function foo(a, b ; c = 10, d = \"hi\")\n",
    "         println(\"a is $a\")\n",
    "         println(\"b is $b\")\n",
    "         return \"c => $c, d => $d\"\n",
    "      end"
   ]
  },
  {
   "cell_type": "code",
   "execution_count": 22,
   "id": "ed7155e1",
   "metadata": {},
   "outputs": [
    {
     "name": "stdout",
     "output_type": "stream",
     "text": [
      "a is 100\n",
      "b is 20\n"
     ]
    },
    {
     "data": {
      "text/plain": [
       "\"c => 10, d => hi\""
      ]
     },
     "execution_count": 22,
     "metadata": {},
     "output_type": "execute_result"
    }
   ],
   "source": [
    "foo(100,20)"
   ]
  },
  {
   "cell_type": "code",
   "execution_count": 23,
   "id": "6d0c9757",
   "metadata": {},
   "outputs": [
    {
     "name": "stdout",
     "output_type": "stream",
     "text": [
      "a is Hello\n",
      "b is Tutorialspoint\n"
     ]
    },
    {
     "data": {
      "text/plain": [
       "\"c => π, d => 22//7\""
      ]
     },
     "execution_count": 23,
     "metadata": {},
     "output_type": "execute_result"
    }
   ],
   "source": [
    "foo(\"Hello\", \"Tutorialspoint\", c=pi, d=22//7)"
   ]
  },
  {
   "cell_type": "code",
   "execution_count": 24,
   "id": "3fa44a79",
   "metadata": {},
   "outputs": [
    {
     "name": "stdout",
     "output_type": "stream",
     "text": [
      "a is Hello\n",
      "b is Tutorialspoint\n"
     ]
    },
    {
     "data": {
      "text/plain": [
       "\"c => π, d => 3.142857142857143\""
      ]
     },
     "execution_count": 24,
     "metadata": {},
     "output_type": "execute_result"
    }
   ],
   "source": [
    "foo(c=pi, d =22/7, \"Hello\", \"Tutorialspoint\")"
   ]
  },
  {
   "cell_type": "markdown",
   "id": "585422fc",
   "metadata": {},
   "source": [
    "### Anonymous Functions\n",
    "It is waste of time thinking a cool name for your function. Use Anonymous functions i.e. functions with no name instead. In Julia, such functions can be used in number of places such as map() and in list comprehensions.\n",
    "\n",
    "The syntax of anonymous functions uses the symbol ->. You can check the below example −"
   ]
  },
  {
   "cell_type": "code",
   "execution_count": 25,
   "id": "f9028daa",
   "metadata": {},
   "outputs": [
    {
     "data": {
      "text/plain": [
       "#2 (generic function with 1 method)"
      ]
     },
     "execution_count": 25,
     "metadata": {},
     "output_type": "execute_result"
    }
   ],
   "source": [
    "A -> A^3 + 3A - 3"
   ]
  },
  {
   "cell_type": "markdown",
   "id": "64d1b035",
   "metadata": {},
   "source": [
    "The above function is an anonymous function that takes an argument A and returns A^3 + 3A – 3.\n",
    "\n",
    "It can be used with map() function whose first argument is a function and we can define an one-off function that exists just for one particular map() operation. The example is given below −"
   ]
  },
  {
   "cell_type": "code",
   "execution_count": 26,
   "id": "7cfc9e6b",
   "metadata": {},
   "outputs": [
    {
     "data": {
      "text/plain": [
       "3-element Array{Int64,1}:\n",
       " 1027\n",
       "   33\n",
       "  -17"
      ]
     },
     "execution_count": 26,
     "metadata": {},
     "output_type": "execute_result"
    }
   ],
   "source": [
    "map(A -> A^3 + 3A - 3, [10,3,-2])"
   ]
  },
  {
   "cell_type": "markdown",
   "id": "9c194281",
   "metadata": {},
   "source": [
    "### Recursive Functions\n",
    "In Julia, the functions can be nested. It is demonstrated in the example given below −"
   ]
  },
  {
   "cell_type": "code",
   "execution_count": 27,
   "id": "de686f4b",
   "metadata": {},
   "outputs": [
    {
     "data": {
      "text/plain": [
       "add (generic function with 1 method)"
      ]
     },
     "execution_count": 27,
     "metadata": {},
     "output_type": "execute_result"
    }
   ],
   "source": [
    "function add(x)\n",
    "      Y = x * 2\n",
    "      function add1(Y)\n",
    "         Y += 1\n",
    "      end\n",
    "      add1(Y)\n",
    "      end"
   ]
  },
  {
   "cell_type": "code",
   "execution_count": 28,
   "id": "0a039235",
   "metadata": {},
   "outputs": [
    {
     "data": {
      "text/plain": [
       "21"
      ]
     },
     "execution_count": 28,
     "metadata": {},
     "output_type": "execute_result"
    }
   ],
   "source": [
    "d=10\n",
    "add(d)"
   ]
  },
  {
   "cell_type": "markdown",
   "id": "4c00a7c7",
   "metadata": {},
   "source": [
    "In the same way, a function in Julia can be recursive also. It means the function can call itself. Before getting into details, we first need to test a condition in code which can be done with the help of ternary operator “?”. It takes the form expr ? a : b. It is called ternary because it takes three arguments. Here the expr is a condition, if it is true then a will be evaluated otherwise b. Let us use this in the following recursive definition −"
   ]
  },
  {
   "cell_type": "code",
   "execution_count": 29,
   "id": "8aa41563",
   "metadata": {},
   "outputs": [
    {
     "data": {
      "text/plain": [
       "sum (generic function with 1 method)"
      ]
     },
     "execution_count": 29,
     "metadata": {},
     "output_type": "execute_result"
    }
   ],
   "source": [
    "sum(x) = x > 1 ? sum(x-1) + x : x"
   ]
  },
  {
   "cell_type": "markdown",
   "id": "84691aec",
   "metadata": {},
   "source": [
    "The above statement calculates the sum of all the integers up to and including a certain number. But in this recursion ends because there is a base case, i.e., when x is 1, this value is returned.\n",
    "\n",
    "The most famous example of recursion is to calculate the nth Fibonacci number which is defined as the sum of two previous Fibonacci numbers. Let us understand it with the below given example −"
   ]
  },
  {
   "cell_type": "code",
   "execution_count": 30,
   "id": "1aa9aaa4",
   "metadata": {},
   "outputs": [
    {
     "data": {
      "text/plain": [
       "fib (generic function with 1 method)"
      ]
     },
     "execution_count": 30,
     "metadata": {},
     "output_type": "execute_result"
    }
   ],
   "source": [
    "fib(x) = x < 2 ? x : fib(x-1) + fib(x-2)"
   ]
  },
  {
   "cell_type": "code",
   "execution_count": 31,
   "id": "fb77cc23",
   "metadata": {},
   "outputs": [
    {
     "data": {
      "text/plain": [
       "55"
      ]
     },
     "execution_count": 31,
     "metadata": {},
     "output_type": "execute_result"
    }
   ],
   "source": [
    "fib(10)"
   ]
  },
  {
   "cell_type": "markdown",
   "id": "bbb05e61",
   "metadata": {},
   "source": [
    "### Map\n",
    "Map may be defined as a function that takes the following form −\n",
    "\n",
    "#### map(func, coll)\n",
    "Here, func is a function applied successively to each element of collection coll. Map generally contains the anonymous function and returns a new collection. The example is given below −"
   ]
  },
  {
   "cell_type": "code",
   "execution_count": 32,
   "id": "1f292566",
   "metadata": {},
   "outputs": [
    {
     "data": {
      "text/plain": [
       "3-element Array{Int64,1}:\n",
       " 1027\n",
       "   33\n",
       "  -17"
      ]
     },
     "execution_count": 32,
     "metadata": {},
     "output_type": "execute_result"
    }
   ],
   "source": [
    "map(A -> A^3 + 3A - 3, [10,3,-2])"
   ]
  },
  {
   "cell_type": "markdown",
   "id": "4202e508",
   "metadata": {},
   "source": [
    "### Filter\n",
    "Filter may be defined as a function that takes the following form −\n",
    "\n",
    "#### filter(function, collection)\n",
    "Filter function returns a copy of collection and removes elements for which the function is false. The example is given below −"
   ]
  },
  {
   "cell_type": "code",
   "execution_count": 33,
   "id": "d3cdc1c9",
   "metadata": {},
   "outputs": [
    {
     "data": {
      "text/plain": [
       "3-element Array{Int64,1}:\n",
       " 1\n",
       " 2\n",
       " 3"
      ]
     },
     "execution_count": 33,
     "metadata": {},
     "output_type": "execute_result"
    }
   ],
   "source": [
    "array = Int[1,2,3]"
   ]
  },
  {
   "cell_type": "code",
   "execution_count": 34,
   "id": "8def72da",
   "metadata": {},
   "outputs": [
    {
     "data": {
      "text/plain": [
       "1-element Array{Int64,1}:\n",
       " 2"
      ]
     },
     "execution_count": 34,
     "metadata": {},
     "output_type": "execute_result"
    }
   ],
   "source": [
    "filter(x -> x % 2 == 0, array)"
   ]
  },
  {
   "cell_type": "markdown",
   "id": "3b7dfe54",
   "metadata": {},
   "source": [
    "### Generic Functions\n",
    "In Julia, we saw that all the functions are inherently defined as Generic. It means that the functions can be used for different types of their arguments. In simple words, whenever the function will be called with arguments of a new type, the Julia compiler will generate a separate version of that function.\n",
    "\n",
    "On the other hand, a function for a specific combination of arguments types is called a Method. So, in order to define a new method for a function, which is called overloading, we need to use the same function name but with different arguments types.\n",
    "\n",
    "### Multiple dispatch\n",
    "Julia has a mechanism called Multiple Dispatch, which neither Python nor C++ implements. Under this mechanism, Julia will do a lookup in the vtable at runtime (whenever a function is called) to find which existing method it should call based on the types of all its arguments.\n",
    "\n",
    "Let us understand the concept of multiple dispatch with the help of an example in which we will define a function that takes 2 arguments returning a string. But in some methods we will annotate the types of both arguments or single argument."
   ]
  },
  {
   "cell_type": "code",
   "execution_count": 35,
   "id": "73fc5506",
   "metadata": {},
   "outputs": [
    {
     "data": {
      "text/plain": [
       "foo (generic function with 1 method)"
      ]
     },
     "execution_count": 35,
     "metadata": {},
     "output_type": "execute_result"
    }
   ],
   "source": [
    "foo(A, B) = \"base case\""
   ]
  },
  {
   "cell_type": "code",
   "execution_count": 36,
   "id": "56c3ced1",
   "metadata": {},
   "outputs": [
    {
     "data": {
      "text/plain": [
       "foo (generic function with 2 methods)"
      ]
     },
     "execution_count": 36,
     "metadata": {},
     "output_type": "execute_result"
    }
   ],
   "source": [
    "foo(A::Number, B::Number) = \"A and B are both numbers\""
   ]
  },
  {
   "cell_type": "code",
   "execution_count": 37,
   "id": "0c3e46b6",
   "metadata": {},
   "outputs": [
    {
     "data": {
      "text/plain": [
       "foo (generic function with 3 methods)"
      ]
     },
     "execution_count": 37,
     "metadata": {},
     "output_type": "execute_result"
    }
   ],
   "source": [
    "foo(A::Number, B) = \"A is a number\""
   ]
  },
  {
   "cell_type": "code",
   "execution_count": 38,
   "id": "ea5fad7c",
   "metadata": {},
   "outputs": [
    {
     "data": {
      "text/plain": [
       "foo (generic function with 4 methods)"
      ]
     },
     "execution_count": 38,
     "metadata": {},
     "output_type": "execute_result"
    }
   ],
   "source": [
    "foo(A, B::Number) = \"B is a number\""
   ]
  },
  {
   "cell_type": "code",
   "execution_count": 39,
   "id": "8dee1474",
   "metadata": {},
   "outputs": [
    {
     "data": {
      "text/plain": [
       "foo (generic function with 5 methods)"
      ]
     },
     "execution_count": 39,
     "metadata": {},
     "output_type": "execute_result"
    }
   ],
   "source": [
    "foo(A::Integer, B::Integer) = \"A and B are both integers\""
   ]
  },
  {
   "cell_type": "code",
   "execution_count": 40,
   "id": "aa320dd9",
   "metadata": {},
   "outputs": [
    {
     "data": {
      "text/plain": [
       "\"A and B are both numbers\""
      ]
     },
     "execution_count": 40,
     "metadata": {},
     "output_type": "execute_result"
    }
   ],
   "source": [
    "foo(4.5, 20)"
   ]
  },
  {
   "cell_type": "code",
   "execution_count": 41,
   "id": "a32c60d5",
   "metadata": {},
   "outputs": [
    {
     "data": {
      "text/plain": [
       "\"A is a number\""
      ]
     },
     "execution_count": 41,
     "metadata": {},
     "output_type": "execute_result"
    }
   ],
   "source": [
    "foo(20, \"Hello\")"
   ]
  },
  {
   "cell_type": "code",
   "execution_count": 42,
   "id": "3533afda",
   "metadata": {},
   "outputs": [
    {
     "data": {
      "text/plain": [
       "\"A and B are both integers\""
      ]
     },
     "execution_count": 42,
     "metadata": {},
     "output_type": "execute_result"
    }
   ],
   "source": [
    "foo(50, 100)"
   ]
  },
  {
   "cell_type": "code",
   "execution_count": 43,
   "id": "a04a23d2",
   "metadata": {},
   "outputs": [
    {
     "data": {
      "text/plain": [
       "\"base case\""
      ]
     },
     "execution_count": 43,
     "metadata": {},
     "output_type": "execute_result"
    }
   ],
   "source": [
    "foo(\"Hello\", [100,200])"
   ]
  },
  {
   "cell_type": "code",
   "execution_count": null,
   "id": "b7e26f66",
   "metadata": {},
   "outputs": [],
   "source": []
  }
 ],
 "metadata": {
  "kernelspec": {
   "display_name": "Julia 1.5.1",
   "language": "julia",
   "name": "julia-1.5"
  },
  "language_info": {
   "file_extension": ".jl",
   "mimetype": "application/julia",
   "name": "julia",
   "version": "1.5.1"
  }
 },
 "nbformat": 4,
 "nbformat_minor": 5
}
