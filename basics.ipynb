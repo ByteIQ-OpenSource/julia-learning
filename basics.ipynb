{
 "cells": [
  {
   "cell_type": "code",
   "execution_count": 2,
   "id": "7da287dc",
   "metadata": {},
   "outputs": [
    {
     "data": {
      "text/plain": [
       "9.5"
      ]
     },
     "execution_count": 2,
     "metadata": {},
     "output_type": "execute_result"
    }
   ],
   "source": [
    "student_name = \"Ram\"\n",
    "roll_no = 15\n",
    "marks_math = 9.5"
   ]
  },
  {
   "cell_type": "code",
   "execution_count": 4,
   "id": "0a50dace",
   "metadata": {},
   "outputs": [],
   "source": [
    "# single line comment\n",
    "\n",
    "#= can contain multiline comment =#\n",
    "\n",
    "\n",
    "#= This is an example to demonstrate the multi-line comments that tells us about tutorialspoint.com. \n",
    "At this website you can browse the best resource for Online Education.=#"
   ]
  },
  {
   "cell_type": "code",
   "execution_count": 5,
   "id": "30b0b88f",
   "metadata": {},
   "outputs": [],
   "source": [
    "#= An Array is an ordered set of elements which are often specified with squared brackets having comma-separated \n",
    "items. We can create arrays that are − \n",
    "1. Full or empty\n",
    "2. Hold various types of data\n",
    "3. Restricted to values of specific type =#"
   ]
  },
  {
   "cell_type": "code",
   "execution_count": 6,
   "id": "66286a44",
   "metadata": {},
   "outputs": [
    {
     "data": {
      "text/plain": [
       "3-element Array{Int64,1}:\n",
       " 1\n",
       " 2\n",
       " 3"
      ]
     },
     "execution_count": 6,
     "metadata": {},
     "output_type": "execute_result"
    }
   ],
   "source": [
    "arr = [1,2,3]"
   ]
  },
  {
   "cell_type": "code",
   "execution_count": 7,
   "id": "47cb1128",
   "metadata": {},
   "outputs": [
    {
     "data": {
      "text/plain": [
       "5-element Array{Any,1}:\n",
       " 1\n",
       " 2\n",
       " 3\n",
       "  'a': ASCII/Unicode U+0061 (category Ll: Letter, lowercase)\n",
       "  'b': ASCII/Unicode U+0062 (category Ll: Letter, lowercase)"
      ]
     },
     "execution_count": 7,
     "metadata": {},
     "output_type": "execute_result"
    }
   ],
   "source": [
    "arr = [1,2,3, 'a', 'b']"
   ]
  },
  {
   "cell_type": "code",
   "execution_count": 8,
   "id": "440acac0",
   "metadata": {},
   "outputs": [
    {
     "data": {
      "text/plain": [
       "3-element Array{Int64,1}:\n",
       " 139827854857840\n",
       " 139827852652896\n",
       " 139827852652896"
      ]
     },
     "execution_count": 8,
     "metadata": {},
     "output_type": "execute_result"
    }
   ],
   "source": [
    "array = Array{Int64}(undef, 3)"
   ]
  },
  {
   "cell_type": "code",
   "execution_count": 9,
   "id": "e20e83eb",
   "metadata": {},
   "outputs": [
    {
     "data": {
      "text/plain": [
       "3×3×3 Array{Int64,3}:\n",
       "[:, :, 1] =\n",
       "  8  139827773672128  139827808898912\n",
       "  3  139827768466896  139827802217184\n",
       " 32  139827783722544                1\n",
       "\n",
       "[:, :, 2] =\n",
       " 139827235989392                3  139827796031216\n",
       "               1  139827793547024  139827796031152\n",
       "              -1  139827793546928                2\n",
       "\n",
       "[:, :, 3] =\n",
       "               1                0  139827783722864\n",
       " 139827854094656  139827793547120  139827775807520\n",
       " 139827793547216  139827783722784  139826972131329"
      ]
     },
     "execution_count": 9,
     "metadata": {},
     "output_type": "execute_result"
    }
   ],
   "source": [
    "array = Array{Int64}(undef, 3, 3, 3)"
   ]
  },
  {
   "cell_type": "code",
   "execution_count": 10,
   "id": "12d6f60b",
   "metadata": {},
   "outputs": [
    {
     "data": {
      "text/plain": [
       "Int64[]"
      ]
     },
     "execution_count": 10,
     "metadata": {},
     "output_type": "execute_result"
    }
   ],
   "source": [
    "A = Int64[]"
   ]
  },
  {
   "cell_type": "code",
   "execution_count": 11,
   "id": "c1266330",
   "metadata": {},
   "outputs": [
    {
     "data": {
      "text/plain": [
       "String[]"
      ]
     },
     "execution_count": 11,
     "metadata": {},
     "output_type": "execute_result"
    }
   ],
   "source": [
    "A = String[]"
   ]
  },
  {
   "cell_type": "code",
   "execution_count": 12,
   "id": "95f7c0ce",
   "metadata": {},
   "outputs": [
    {
     "data": {
      "text/plain": [
       "1×10 Array{Int64,2}:\n",
       " 1  2  3  4  5  6  7  8  9  10"
      ]
     },
     "execution_count": 12,
     "metadata": {},
     "output_type": "execute_result"
    }
   ],
   "source": [
    "[1 2 3 4 5 6 7 8 9 10]"
   ]
  },
  {
   "cell_type": "code",
   "execution_count": 15,
   "id": "83b44185",
   "metadata": {},
   "outputs": [
    {
     "data": {
      "text/plain": [
       "2×5 Array{Int64,2}:\n",
       " 1  2  3  4   5\n",
       " 6  7  8  9  10"
      ]
     },
     "execution_count": 15,
     "metadata": {},
     "output_type": "execute_result"
    }
   ],
   "source": [
    "[1 2 3 4 5 ; 6 7 8 9 10;]"
   ]
  },
  {
   "cell_type": "markdown",
   "id": "0638a772",
   "metadata": {},
   "source": [
    "#### Collect() function\n",
    "\n",
    "First useful function to create an array using range objects is collect(). With the help of colon(:) and collect() function, we can create an array using range objects as follows\n",
    "\n",
    "start:step:stop"
   ]
  },
  {
   "cell_type": "code",
   "execution_count": 16,
   "id": "10d7825b",
   "metadata": {},
   "outputs": [
    {
     "data": {
      "text/plain": [
       "5-element Array{Int64,1}:\n",
       " 1\n",
       " 2\n",
       " 3\n",
       " 4\n",
       " 5"
      ]
     },
     "execution_count": 16,
     "metadata": {},
     "output_type": "execute_result"
    }
   ],
   "source": [
    "collect(1:5)"
   ]
  },
  {
   "cell_type": "code",
   "execution_count": 22,
   "id": "4143a7c2",
   "metadata": {},
   "outputs": [
    {
     "data": {
      "text/plain": [
       "0-dimensional Array{Int64,0}:\n",
       "12"
      ]
     },
     "execution_count": 22,
     "metadata": {},
     "output_type": "execute_result"
    }
   ],
   "source": [
    "collect(:12)"
   ]
  },
  {
   "cell_type": "code",
   "execution_count": 23,
   "id": "13b73d42",
   "metadata": {},
   "outputs": [
    {
     "data": {
      "text/plain": [
       "5-element Array{Float64,1}:\n",
       " 1.5\n",
       " 2.5\n",
       " 3.5\n",
       " 4.5\n",
       " 5.5"
      ]
     },
     "execution_count": 23,
     "metadata": {},
     "output_type": "execute_result"
    }
   ],
   "source": [
    "collect(1.5:5.5)"
   ]
  },
  {
   "cell_type": "markdown",
   "id": "b4170f8a",
   "metadata": {},
   "source": [
    "#### ellipsis(…) or splat operator\n",
    "\n",
    "Instead of using collect() function, we can also use splat operator or ellipsis(…) after the last element."
   ]
  },
  {
   "cell_type": "code",
   "execution_count": 24,
   "id": "cd108980",
   "metadata": {},
   "outputs": [
    {
     "data": {
      "text/plain": [
       "11-element Array{Int64,1}:\n",
       "  0\n",
       "  1\n",
       "  2\n",
       "  3\n",
       "  4\n",
       "  5\n",
       "  6\n",
       "  7\n",
       "  8\n",
       "  9\n",
       " 10"
      ]
     },
     "execution_count": 24,
     "metadata": {},
     "output_type": "execute_result"
    }
   ],
   "source": [
    "[0:10...]"
   ]
  },
  {
   "cell_type": "markdown",
   "id": "b0b2c985",
   "metadata": {},
   "source": [
    "#### range() function\n",
    "\n",
    "Range() is another useful function to create an array with range objects. It goes from start value to end value by taking a specific step value."
   ]
  },
  {
   "cell_type": "code",
   "execution_count": 25,
   "id": "b511fee4",
   "metadata": {},
   "outputs": [
    {
     "data": {
      "text/plain": [
       "1.0:10.642857142857142:150.0"
      ]
     },
     "execution_count": 25,
     "metadata": {},
     "output_type": "execute_result"
    }
   ],
   "source": [
    "range(1, length=15, stop=150)"
   ]
  },
  {
   "cell_type": "code",
   "execution_count": 26,
   "id": "cea43699",
   "metadata": {},
   "outputs": [
    {
     "data": {
      "text/plain": [
       "1:10:141"
      ]
     },
     "execution_count": 26,
     "metadata": {},
     "output_type": "execute_result"
    }
   ],
   "source": [
    "range(1, stop=150, step=10)"
   ]
  },
  {
   "cell_type": "code",
   "execution_count": 27,
   "id": "7a4d4534",
   "metadata": {},
   "outputs": [
    {
     "data": {
      "text/plain": [
       "15-element Array{Float64,1}:\n",
       "   1.0\n",
       "  11.642857142857142\n",
       "  22.285714285714285\n",
       "  32.92857142857143\n",
       "  43.57142857142857\n",
       "  54.214285714285715\n",
       "  64.85714285714286\n",
       "  75.5\n",
       "  86.14285714285714\n",
       "  96.78571428571429\n",
       " 107.42857142857143\n",
       " 118.07142857142857\n",
       " 128.71428571428572\n",
       " 139.35714285714286\n",
       " 150.0"
      ]
     },
     "execution_count": 27,
     "metadata": {},
     "output_type": "execute_result"
    }
   ],
   "source": [
    "collect(range(1, length=15, stop=150))"
   ]
  },
  {
   "cell_type": "markdown",
   "id": "f9e9cf2c",
   "metadata": {},
   "source": [
    "Another useful way to create an array is to use comprehensions. In this way, we can create array where each element can produce using a small computation. For example, we can create an array of 10 elements as follows "
   ]
  },
  {
   "cell_type": "code",
   "execution_count": 28,
   "id": "0fe6170e",
   "metadata": {},
   "outputs": [
    {
     "data": {
      "text/plain": [
       "10-element Array{Int64,1}:\n",
       "   1\n",
       "   4\n",
       "   9\n",
       "  16\n",
       "  25\n",
       "  36\n",
       "  49\n",
       "  64\n",
       "  81\n",
       " 100"
      ]
     },
     "execution_count": 28,
     "metadata": {},
     "output_type": "execute_result"
    }
   ],
   "source": [
    "[n^2 for n in 1:10]"
   ]
  },
  {
   "cell_type": "code",
   "execution_count": 29,
   "id": "8ded9316",
   "metadata": {},
   "outputs": [
    {
     "data": {
      "text/plain": [
       "10×10 Array{Int64,2}:\n",
       "  1   2   3   4   5   6   7   8   9   10\n",
       "  2   4   6   8  10  12  14  16  18   20\n",
       "  3   6   9  12  15  18  21  24  27   30\n",
       "  4   8  12  16  20  24  28  32  36   40\n",
       "  5  10  15  20  25  30  35  40  45   50\n",
       "  6  12  18  24  30  36  42  48  54   60\n",
       "  7  14  21  28  35  42  49  56  63   70\n",
       "  8  16  24  32  40  48  56  64  72   80\n",
       "  9  18  27  36  45  54  63  72  81   90\n",
       " 10  20  30  40  50  60  70  80  90  100"
      ]
     },
     "execution_count": 29,
     "metadata": {},
     "output_type": "execute_result"
    }
   ],
   "source": [
    "[n*m for n in 1:10, m in 1:10]"
   ]
  },
  {
   "cell_type": "code",
   "execution_count": 30,
   "id": "1e406318",
   "metadata": {},
   "outputs": [
    {
     "data": {
      "text/plain": [
       "5-element Array{Int64,1}:\n",
       "  1\n",
       "  4\n",
       "  9\n",
       " 16\n",
       " 25"
      ]
     },
     "execution_count": 30,
     "metadata": {},
     "output_type": "execute_result"
    }
   ],
   "source": [
    "collect(n^2 for n in 1:5)"
   ]
  },
  {
   "cell_type": "markdown",
   "id": "38ecf6eb",
   "metadata": {},
   "source": [
    "### Populating an Array\n",
    "\n",
    "Following are the functions with the help of which you can create and fill arrays with specific contents −\n",
    "#### zeros (m, n)\n",
    "\n",
    "This function will create matrix of zeros with m number of rows and n number of columns. The example is given below"
   ]
  },
  {
   "cell_type": "code",
   "execution_count": 31,
   "id": "9199366e",
   "metadata": {},
   "outputs": [
    {
     "data": {
      "text/plain": [
       "4×5 Array{Float64,2}:\n",
       " 0.0  0.0  0.0  0.0  0.0\n",
       " 0.0  0.0  0.0  0.0  0.0\n",
       " 0.0  0.0  0.0  0.0  0.0\n",
       " 0.0  0.0  0.0  0.0  0.0"
      ]
     },
     "execution_count": 31,
     "metadata": {},
     "output_type": "execute_result"
    }
   ],
   "source": [
    "zeros(4,5)"
   ]
  },
  {
   "cell_type": "code",
   "execution_count": 32,
   "id": "fde20175",
   "metadata": {},
   "outputs": [
    {
     "data": {
      "text/plain": [
       "4×5 Array{Int64,2}:\n",
       " 0  0  0  0  0\n",
       " 0  0  0  0  0\n",
       " 0  0  0  0  0\n",
       " 0  0  0  0  0"
      ]
     },
     "execution_count": 32,
     "metadata": {},
     "output_type": "execute_result"
    }
   ],
   "source": [
    "zeros(Int64,4,5)"
   ]
  },
  {
   "cell_type": "markdown",
   "id": "8feff906",
   "metadata": {},
   "source": [
    "#### ones (m, n)\n",
    "\n",
    "This function will create matrix of ones with m number of rows and n number of columns. The example is given below"
   ]
  },
  {
   "cell_type": "code",
   "execution_count": 33,
   "id": "369a6551",
   "metadata": {},
   "outputs": [
    {
     "data": {
      "text/plain": [
       "4×5 Array{Float64,2}:\n",
       " 1.0  1.0  1.0  1.0  1.0\n",
       " 1.0  1.0  1.0  1.0  1.0\n",
       " 1.0  1.0  1.0  1.0  1.0\n",
       " 1.0  1.0  1.0  1.0  1.0"
      ]
     },
     "execution_count": 33,
     "metadata": {},
     "output_type": "execute_result"
    }
   ],
   "source": [
    "ones(4,5)"
   ]
  },
  {
   "cell_type": "markdown",
   "id": "d2de42fc",
   "metadata": {},
   "source": [
    "### rand (m, n)\n",
    "\n",
    "As the name suggests, this function will create matrix of random numbers with m number of rows and n number of columns."
   ]
  },
  {
   "cell_type": "code",
   "execution_count": 36,
   "id": "43c30237",
   "metadata": {},
   "outputs": [
    {
     "data": {
      "text/plain": [
       "4×5 Array{Float64,2}:\n",
       " 0.829394  0.261408   0.301023  0.986204  0.0465898\n",
       " 0.177829  0.191439   0.707557  0.50394   0.249452\n",
       " 0.345841  0.574306   0.100953  0.50094   0.368992\n",
       " 0.995164  0.0407851  0.431756  0.95588   0.555763"
      ]
     },
     "execution_count": 36,
     "metadata": {},
     "output_type": "execute_result"
    }
   ],
   "source": [
    "rand(4,5)"
   ]
  },
  {
   "cell_type": "markdown",
   "id": "a9104ec6",
   "metadata": {},
   "source": [
    "#### randn(m, n)\n",
    "\n",
    "As the name suggests, this function will create m*n matrix of normally distributed random numbers with mean=0 and standard deviation(SD)=1."
   ]
  },
  {
   "cell_type": "code",
   "execution_count": 37,
   "id": "d6cd35af",
   "metadata": {},
   "outputs": [
    {
     "data": {
      "text/plain": [
       "4×5 Array{Float64,2}:\n",
       "  0.658813   -0.755717  -1.43305    0.362785  -1.744\n",
       " -2.49828     0.758181  -0.249511  -1.24204    1.27779\n",
       "  1.00274    -0.210198   2.15374    0.540173   0.652497\n",
       "  0.0225745  -0.462252  -0.577431  -1.82036   -0.234275"
      ]
     },
     "execution_count": 37,
     "metadata": {},
     "output_type": "execute_result"
    }
   ],
   "source": [
    "randn(4,5)"
   ]
  },
  {
   "cell_type": "markdown",
   "id": "3275e5d5",
   "metadata": {},
   "source": [
    "#### fill()\n",
    "\n",
    "This function is used to fill an array with a specific value. More specifically, it will create an array of repeating duplicate value."
   ]
  },
  {
   "cell_type": "code",
   "execution_count": 38,
   "id": "8e7221a4",
   "metadata": {},
   "outputs": [
    {
     "data": {
      "text/plain": [
       "5-element Array{Int64,1}:\n",
       " 100\n",
       " 100\n",
       " 100\n",
       " 100\n",
       " 100"
      ]
     },
     "execution_count": 38,
     "metadata": {},
     "output_type": "execute_result"
    }
   ],
   "source": [
    "fill(100,5)"
   ]
  },
  {
   "cell_type": "markdown",
   "id": "edc14eda",
   "metadata": {},
   "source": [
    "#### fill!()\n",
    "\n",
    "It is similar to fill() function but the sign of exclamation (!) is an indication or warning that the content of an existing array is going to be changed. The example is given below:"
   ]
  },
  {
   "cell_type": "code",
   "execution_count": 39,
   "id": "75b9a247",
   "metadata": {},
   "outputs": [
    {
     "data": {
      "text/plain": [
       "5-element Array{Float64,1}:\n",
       " 1.0\n",
       " 1.0\n",
       " 1.0\n",
       " 1.0\n",
       " 1.0"
      ]
     },
     "execution_count": 39,
     "metadata": {},
     "output_type": "execute_result"
    }
   ],
   "source": [
    "ABC = ones(5)"
   ]
  },
  {
   "cell_type": "code",
   "execution_count": 40,
   "id": "f3c48f7d",
   "metadata": {},
   "outputs": [
    {
     "data": {
      "text/plain": [
       "5-element Array{Float64,1}:\n",
       " 100.0\n",
       " 100.0\n",
       " 100.0\n",
       " 100.0\n",
       " 100.0"
      ]
     },
     "execution_count": 40,
     "metadata": {},
     "output_type": "execute_result"
    }
   ],
   "source": [
    "fill!(ABC,100)"
   ]
  },
  {
   "cell_type": "code",
   "execution_count": 41,
   "id": "4fa384a4",
   "metadata": {},
   "outputs": [
    {
     "data": {
      "text/plain": [
       "5-element Array{Float64,1}:\n",
       " 100.0\n",
       " 100.0\n",
       " 100.0\n",
       " 100.0\n",
       " 100.0"
      ]
     },
     "execution_count": 41,
     "metadata": {},
     "output_type": "execute_result"
    }
   ],
   "source": [
    "ABC"
   ]
  },
  {
   "cell_type": "markdown",
   "id": "b03d1136",
   "metadata": {},
   "source": [
    "### Array Constructor\n",
    "\n",
    "The function Array(), we have studied earlier, can build array of a specific type as follows −"
   ]
  },
  {
   "cell_type": "code",
   "execution_count": 42,
   "id": "b0d1592e",
   "metadata": {},
   "outputs": [
    {
     "data": {
      "text/plain": [
       "5-element Array{Int64,1}:\n",
       " 139827228905136\n",
       " 139827228905232\n",
       " 139827228905280\n",
       " 139827228905328\n",
       " 139827228905376"
      ]
     },
     "execution_count": 42,
     "metadata": {},
     "output_type": "execute_result"
    }
   ],
   "source": [
    "Array{Int64}(undef, 5)"
   ]
  },
  {
   "cell_type": "markdown",
   "id": "bbcef106",
   "metadata": {},
   "source": [
    "#### Arrays of arrays"
   ]
  },
  {
   "cell_type": "code",
   "execution_count": 43,
   "id": "ac454d88",
   "metadata": {},
   "outputs": [
    {
     "data": {
      "text/plain": [
       "2-element Array{Array,1}:\n",
       " [3, 4]\n",
       " [5, 6]"
      ]
     },
     "execution_count": 43,
     "metadata": {},
     "output_type": "execute_result"
    }
   ],
   "source": [
    "ABC = Array[[3,4],[5,6]]"
   ]
  },
  {
   "cell_type": "code",
   "execution_count": 44,
   "id": "b6c310c7",
   "metadata": {},
   "outputs": [
    {
     "data": {
      "text/plain": [
       "2-element Array{Array,1}:\n",
       " [1, 2, 3, 4, 5]\n",
       " [6, 7, 8, 9, 10]"
      ]
     },
     "execution_count": 44,
     "metadata": {},
     "output_type": "execute_result"
    }
   ],
   "source": [
    "Array[1:5,6:10]"
   ]
  },
  {
   "cell_type": "markdown",
   "id": "ad241b3a",
   "metadata": {},
   "source": [
    "#### Copying arrays\n",
    "\n",
    "Suppose you have an array and want to create another array with similar dimensions, then you can use similar() function as follows"
   ]
  },
  {
   "cell_type": "code",
   "execution_count": 45,
   "id": "04668790",
   "metadata": {},
   "outputs": [
    {
     "data": {
      "text/plain": [
       "5-element Array{Int64,1}:\n",
       " 1\n",
       " 2\n",
       " 3\n",
       " 4\n",
       " 5"
      ]
     },
     "execution_count": 45,
     "metadata": {},
     "output_type": "execute_result"
    }
   ],
   "source": [
    "A = collect(1:5);\n",
    "# Here we have hide the values with the help of semicolon(;)"
   ]
  },
  {
   "cell_type": "code",
   "execution_count": 46,
   "id": "607d1a49",
   "metadata": {},
   "outputs": [
    {
     "data": {
      "text/plain": [
       "5-element Array{Int64,1}:\n",
       "               0\n",
       "               1\n",
       " 139827758481408\n",
       "               2\n",
       "               1"
      ]
     },
     "execution_count": 46,
     "metadata": {},
     "output_type": "execute_result"
    }
   ],
   "source": [
    "B = similar(A)"
   ]
  },
  {
   "cell_type": "code",
   "execution_count": 47,
   "id": "f8372bce",
   "metadata": {},
   "outputs": [
    {
     "data": {
      "text/plain": [
       "5-element Array{Int64,1}:\n",
       " 1\n",
       " 2\n",
       " 3\n",
       " 4\n",
       " 5"
      ]
     },
     "execution_count": 47,
     "metadata": {},
     "output_type": "execute_result"
    }
   ],
   "source": [
    "A = collect(1:5)"
   ]
  },
  {
   "cell_type": "code",
   "execution_count": 48,
   "id": "8650f569",
   "metadata": {},
   "outputs": [
    {
     "data": {
      "text/plain": [
       "5-element Array{Int64,1}:\n",
       " 139827924468704\n",
       " 139827918789120\n",
       " 139827918317216\n",
       " 139827758481648\n",
       " 139827815961904"
      ]
     },
     "execution_count": 48,
     "metadata": {},
     "output_type": "execute_result"
    }
   ],
   "source": [
    "B = similar(A)"
   ]
  },
  {
   "cell_type": "markdown",
   "id": "b2019829",
   "metadata": {},
   "source": [
    "### Matrix Operations\n",
    "\n",
    "As we know that a two-dimensional (2D) array can be used as a matrix so all the functions that are available for working on arrays can also be used as matrices. The condition is that the dimensions and contents should permit. If you want to type a matrix, use spaces to make rows and semicolon(;) to separate the rows as follows"
   ]
  },
  {
   "cell_type": "code",
   "execution_count": 49,
   "id": "9e83b944",
   "metadata": {},
   "outputs": [
    {
     "data": {
      "text/plain": [
       "2×2 Array{Int64,2}:\n",
       " 2  3\n",
       " 4  5"
      ]
     },
     "execution_count": 49,
     "metadata": {},
     "output_type": "execute_result"
    }
   ],
   "source": [
    "[2 3 ; 4 5]"
   ]
  },
  {
   "cell_type": "code",
   "execution_count": 50,
   "id": "bdff6f41",
   "metadata": {},
   "outputs": [
    {
     "data": {
      "text/plain": [
       "2-element Array{Array,1}:\n",
       " [3, 4]\n",
       " [5, 6]"
      ]
     },
     "execution_count": 50,
     "metadata": {},
     "output_type": "execute_result"
    }
   ],
   "source": [
    "Array[[3,4],[5,6]]"
   ]
  },
  {
   "cell_type": "code",
   "execution_count": 51,
   "id": "2032acf2",
   "metadata": {},
   "outputs": [
    {
     "data": {
      "text/plain": [
       "2×2 Array{Int64,2}:\n",
       " 3  5\n",
       " 4  6"
      ]
     },
     "execution_count": 51,
     "metadata": {},
     "output_type": "execute_result"
    }
   ],
   "source": [
    "[[3,4] [5,6]]"
   ]
  },
  {
   "cell_type": "markdown",
   "id": "76f2cca0",
   "metadata": {},
   "source": [
    "Accessing the contents of arrays\n",
    "\n",
    "In Julia, to access the contents/particular element of an array, you need to write the name of the array with the element number in square bracket."
   ]
  },
  {
   "cell_type": "code",
   "execution_count": 52,
   "id": "b74a5576",
   "metadata": {},
   "outputs": [
    {
     "data": {
      "text/plain": [
       "10-element Array{Int64,1}:\n",
       "  5\n",
       " 10\n",
       " 15\n",
       " 20\n",
       " 25\n",
       " 30\n",
       " 35\n",
       " 40\n",
       " 45\n",
       " 50"
      ]
     },
     "execution_count": 52,
     "metadata": {},
     "output_type": "execute_result"
    }
   ],
   "source": [
    "arr = [5,10,15,20,25,30,35,40,45,50]"
   ]
  },
  {
   "cell_type": "code",
   "execution_count": 53,
   "id": "18499720",
   "metadata": {},
   "outputs": [
    {
     "data": {
      "text/plain": [
       "(5, 10)"
      ]
     },
     "execution_count": 53,
     "metadata": {},
     "output_type": "execute_result"
    }
   ],
   "source": [
    "arr[1], arr[2]"
   ]
  },
  {
   "cell_type": "code",
   "execution_count": 54,
   "id": "aa320875",
   "metadata": {},
   "outputs": [
    {
     "ename": "LoadError",
     "evalue": "\u001b[91mBoundsError: attempt to access 10-element Array{Int64,1} at index [0]\u001b[39m",
     "output_type": "error",
     "traceback": [
      "\u001b[91mBoundsError: attempt to access 10-element Array{Int64,1} at index [0]\u001b[39m",
      "",
      "Stacktrace:",
      " [1] getindex(::Array{Int64,1}, ::Int64) at ./array.jl:809",
      " [2] top-level scope at In[54]:1",
      " [3] include_string(::Function, ::Module, ::String, ::String) at ./loading.jl:1091"
     ]
    }
   ],
   "source": [
    "arr[0]"
   ]
  },
  {
   "cell_type": "code",
   "execution_count": 55,
   "id": "63151da6",
   "metadata": {},
   "outputs": [
    {
     "data": {
      "text/plain": [
       "50"
      ]
     },
     "execution_count": 55,
     "metadata": {},
     "output_type": "execute_result"
    }
   ],
   "source": [
    "arr[end]"
   ]
  },
  {
   "cell_type": "code",
   "execution_count": 56,
   "id": "e775605c",
   "metadata": {},
   "outputs": [
    {
     "data": {
      "text/plain": [
       "45"
      ]
     },
     "execution_count": 56,
     "metadata": {},
     "output_type": "execute_result"
    }
   ],
   "source": [
    "arr[end-1]"
   ]
  },
  {
   "cell_type": "code",
   "execution_count": 57,
   "id": "357d0939",
   "metadata": {},
   "outputs": [
    {
     "data": {
      "text/plain": [
       "3-element Array{Int64,1}:\n",
       " 10\n",
       " 25\n",
       " 30"
      ]
     },
     "execution_count": 57,
     "metadata": {},
     "output_type": "execute_result"
    }
   ],
   "source": [
    "# To access more than one element at a time, we can also provide a bunch of index numbers as shown below \n",
    "arr[[2,5,6]]"
   ]
  },
  {
   "cell_type": "code",
   "execution_count": 58,
   "id": "bd00846d",
   "metadata": {},
   "outputs": [
    {
     "data": {
      "text/plain": [
       "6-element Array{Int64,1}:\n",
       "  5\n",
       " 15\n",
       " 20\n",
       " 25\n",
       " 40\n",
       " 45"
      ]
     },
     "execution_count": 58,
     "metadata": {},
     "output_type": "execute_result"
    }
   ],
   "source": [
    "arr[[true, false, true, true,true, false, false, true, true, false]]"
   ]
  },
  {
   "cell_type": "code",
   "execution_count": 59,
   "id": "10e8feb3",
   "metadata": {},
   "outputs": [
    {
     "data": {
      "text/plain": [
       "3×3 Array{Int64,2}:\n",
       " 10  11  12\n",
       " 13  14  15\n",
       " 16  17  18"
      ]
     },
     "execution_count": 59,
     "metadata": {},
     "output_type": "execute_result"
    }
   ],
   "source": [
    "arr2 = [10 11 12; 13 14 15; 16 17 18]"
   ]
  },
  {
   "cell_type": "code",
   "execution_count": 60,
   "id": "91ad2691",
   "metadata": {},
   "outputs": [
    {
     "data": {
      "text/plain": [
       "13"
      ]
     },
     "execution_count": 60,
     "metadata": {},
     "output_type": "execute_result"
    }
   ],
   "source": [
    "arr2[2]"
   ]
  },
  {
   "cell_type": "code",
   "execution_count": 61,
   "id": "c5776e3d",
   "metadata": {},
   "outputs": [
    {
     "data": {
      "text/plain": [
       "16"
      ]
     },
     "execution_count": 61,
     "metadata": {},
     "output_type": "execute_result"
    }
   ],
   "source": [
    "arr2[3]"
   ]
  },
  {
   "cell_type": "code",
   "execution_count": 62,
   "id": "8cff9f19",
   "metadata": {},
   "outputs": [
    {
     "data": {
      "text/plain": [
       "11"
      ]
     },
     "execution_count": 62,
     "metadata": {},
     "output_type": "execute_result"
    }
   ],
   "source": [
    "arr2[1,2]"
   ]
  },
  {
   "cell_type": "code",
   "execution_count": 63,
   "id": "fd7d1c65",
   "metadata": {},
   "outputs": [
    {
     "data": {
      "text/plain": [
       "12"
      ]
     },
     "execution_count": 63,
     "metadata": {},
     "output_type": "execute_result"
    }
   ],
   "source": [
    "arr2[1,3]"
   ]
  },
  {
   "cell_type": "code",
   "execution_count": 64,
   "id": "424740e5",
   "metadata": {},
   "outputs": [
    {
     "data": {
      "text/plain": [
       "11"
      ]
     },
     "execution_count": 64,
     "metadata": {},
     "output_type": "execute_result"
    }
   ],
   "source": [
    "getindex(arr2,1,2)"
   ]
  },
  {
   "cell_type": "code",
   "execution_count": 65,
   "id": "fb374a11",
   "metadata": {},
   "outputs": [
    {
     "data": {
      "text/plain": [
       "15"
      ]
     },
     "execution_count": 65,
     "metadata": {},
     "output_type": "execute_result"
    }
   ],
   "source": [
    "getindex(arr2,2,3)"
   ]
  },
  {
   "cell_type": "markdown",
   "id": "7b6231d0",
   "metadata": {},
   "source": [
    "### Adding Elements\n",
    "\n",
    "We can add elements to an array in Julia at the end, at the front and at the given index using push!(), pushfirst!() and splice!() functions respectively.\n",
    "#### At the end\n",
    "\n",
    "We can use push!() function to add an element at the end of an array. For example,"
   ]
  },
  {
   "cell_type": "code",
   "execution_count": 66,
   "id": "8167f5f5",
   "metadata": {},
   "outputs": [
    {
     "data": {
      "text/plain": [
       "11-element Array{Int64,1}:\n",
       "  5\n",
       " 10\n",
       " 15\n",
       " 20\n",
       " 25\n",
       " 30\n",
       " 35\n",
       " 40\n",
       " 45\n",
       " 50\n",
       " 55"
      ]
     },
     "execution_count": 66,
     "metadata": {},
     "output_type": "execute_result"
    }
   ],
   "source": [
    "push!(arr,55)"
   ]
  },
  {
   "cell_type": "markdown",
   "id": "93e554e8",
   "metadata": {},
   "source": [
    "Remember we had 10 elements in array arr. Now push!() function added the element 55 at the end of this array.\n",
    "\n",
    "The exclamation(!) sign represents that the function is going to change the array."
   ]
  },
  {
   "cell_type": "markdown",
   "id": "1ed89785",
   "metadata": {},
   "source": [
    "#### At the front\n",
    "\n",
    "We can use pushfirst!() function to add an element at the front of an array. For example,"
   ]
  },
  {
   "cell_type": "code",
   "execution_count": 67,
   "id": "3359cd90",
   "metadata": {},
   "outputs": [
    {
     "data": {
      "text/plain": [
       "12-element Array{Int64,1}:\n",
       "  0\n",
       "  5\n",
       " 10\n",
       " 15\n",
       " 20\n",
       " 25\n",
       " 30\n",
       " 35\n",
       " 40\n",
       " 45\n",
       " 50\n",
       " 55"
      ]
     },
     "execution_count": 67,
     "metadata": {},
     "output_type": "execute_result"
    }
   ],
   "source": [
    "pushfirst!(arr,0)"
   ]
  },
  {
   "cell_type": "code",
   "execution_count": 68,
   "id": "ea61df5e",
   "metadata": {},
   "outputs": [
    {
     "data": {
      "text/plain": [
       "12-element Array{Int64,1}:\n",
       "  0\n",
       "  5\n",
       " 10\n",
       " 15\n",
       " 20\n",
       " 25\n",
       " 30\n",
       " 35\n",
       " 40\n",
       " 45\n",
       " 50\n",
       " 55"
      ]
     },
     "execution_count": 68,
     "metadata": {},
     "output_type": "execute_result"
    }
   ],
   "source": [
    "arr"
   ]
  },
  {
   "cell_type": "markdown",
   "id": "4234ea0b",
   "metadata": {},
   "source": [
    "#### At a given index\n",
    "\n",
    "We can use splice!() function to add an element into an array at a given index. For example,"
   ]
  },
  {
   "cell_type": "markdown",
   "id": "8cb6abe6",
   "metadata": {},
   "source": [
    "### Removing Elements\n",
    "\n",
    "We can remove elements at last position, first position and at the given index, from an array in Julia, using pop!(), popfirst!() and splice!() functions respectively.\n",
    "#### Remove the last element\n",
    "\n",
    "We can use pop!() function to remove the last element of an array. For example,"
   ]
  },
  {
   "cell_type": "code",
   "execution_count": 69,
   "id": "90cb1719",
   "metadata": {},
   "outputs": [
    {
     "data": {
      "text/plain": [
       "55"
      ]
     },
     "execution_count": 69,
     "metadata": {},
     "output_type": "execute_result"
    }
   ],
   "source": [
    "pop!(arr)"
   ]
  },
  {
   "cell_type": "code",
   "execution_count": 70,
   "id": "c8c2c86f",
   "metadata": {},
   "outputs": [
    {
     "data": {
      "text/plain": [
       "11-element Array{Int64,1}:\n",
       "  0\n",
       "  5\n",
       " 10\n",
       " 15\n",
       " 20\n",
       " 25\n",
       " 30\n",
       " 35\n",
       " 40\n",
       " 45\n",
       " 50"
      ]
     },
     "execution_count": 70,
     "metadata": {},
     "output_type": "execute_result"
    }
   ],
   "source": [
    "arr"
   ]
  },
  {
   "cell_type": "markdown",
   "id": "ce46f082",
   "metadata": {},
   "source": [
    "#### Removing the first element\n",
    "\n",
    "We can use popfirst!() function to remove the first element of an array. For example,"
   ]
  },
  {
   "cell_type": "code",
   "execution_count": 71,
   "id": "44ff6827",
   "metadata": {},
   "outputs": [
    {
     "data": {
      "text/plain": [
       "0"
      ]
     },
     "execution_count": 71,
     "metadata": {},
     "output_type": "execute_result"
    }
   ],
   "source": [
    "popfirst!(arr)"
   ]
  },
  {
   "cell_type": "markdown",
   "id": "1b9a9525",
   "metadata": {},
   "source": [
    "#### Removing element at given position\n",
    "\n",
    "We can use splice!() function to remove the element from a given position of an array. For example,"
   ]
  },
  {
   "cell_type": "code",
   "execution_count": 73,
   "id": "daf5101d",
   "metadata": {},
   "outputs": [
    {
     "data": {
      "text/plain": [
       "25"
      ]
     },
     "execution_count": 73,
     "metadata": {},
     "output_type": "execute_result"
    }
   ],
   "source": [
    "splice!(arr,5)"
   ]
  },
  {
   "cell_type": "code",
   "execution_count": null,
   "id": "919c27da",
   "metadata": {},
   "outputs": [],
   "source": []
  }
 ],
 "metadata": {
  "kernelspec": {
   "display_name": "Julia 1.5.1",
   "language": "julia",
   "name": "julia-1.5"
  },
  "language_info": {
   "file_extension": ".jl",
   "mimetype": "application/julia",
   "name": "julia",
   "version": "1.5.1"
  }
 },
 "nbformat": 4,
 "nbformat_minor": 5
}
