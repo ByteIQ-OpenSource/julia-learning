{
 "cells": [
  {
   "cell_type": "code",
   "execution_count": 2,
   "id": "7da287dc",
   "metadata": {},
   "outputs": [
    {
     "data": {
      "text/plain": [
       "9.5"
      ]
     },
     "execution_count": 2,
     "metadata": {},
     "output_type": "execute_result"
    }
   ],
   "source": [
    "student_name = \"Ram\"\n",
    "roll_no = 15\n",
    "marks_math = 9.5"
   ]
  },
  {
   "cell_type": "code",
   "execution_count": 4,
   "id": "0a50dace",
   "metadata": {},
   "outputs": [],
   "source": [
    "# single line comment\n",
    "\n",
    "#= can contain multiline comment =#\n",
    "\n",
    "\n",
    "#= This is an example to demonstrate the multi-line comments that tells us about tutorialspoint.com. \n",
    "At this website you can browse the best resource for Online Education.=#"
   ]
  },
  {
   "cell_type": "code",
   "execution_count": 5,
   "id": "30b0b88f",
   "metadata": {},
   "outputs": [],
   "source": [
    "#= An Array is an ordered set of elements which are often specified with squared brackets having comma-separated \n",
    "items. We can create arrays that are − \n",
    "1. Full or empty\n",
    "2. Hold various types of data\n",
    "3. Restricted to values of specific type =#"
   ]
  },
  {
   "cell_type": "code",
   "execution_count": 6,
   "id": "66286a44",
   "metadata": {},
   "outputs": [
    {
     "data": {
      "text/plain": [
       "3-element Array{Int64,1}:\n",
       " 1\n",
       " 2\n",
       " 3"
      ]
     },
     "execution_count": 6,
     "metadata": {},
     "output_type": "execute_result"
    }
   ],
   "source": [
    "arr = [1,2,3]"
   ]
  },
  {
   "cell_type": "code",
   "execution_count": 7,
   "id": "47cb1128",
   "metadata": {},
   "outputs": [
    {
     "data": {
      "text/plain": [
       "5-element Array{Any,1}:\n",
       " 1\n",
       " 2\n",
       " 3\n",
       "  'a': ASCII/Unicode U+0061 (category Ll: Letter, lowercase)\n",
       "  'b': ASCII/Unicode U+0062 (category Ll: Letter, lowercase)"
      ]
     },
     "execution_count": 7,
     "metadata": {},
     "output_type": "execute_result"
    }
   ],
   "source": [
    "arr = [1,2,3, 'a', 'b']"
   ]
  },
  {
   "cell_type": "code",
   "execution_count": 8,
   "id": "440acac0",
   "metadata": {},
   "outputs": [
    {
     "data": {
      "text/plain": [
       "3-element Array{Int64,1}:\n",
       " 139827854857840\n",
       " 139827852652896\n",
       " 139827852652896"
      ]
     },
     "execution_count": 8,
     "metadata": {},
     "output_type": "execute_result"
    }
   ],
   "source": [
    "array = Array{Int64}(undef, 3)"
   ]
  },
  {
   "cell_type": "code",
   "execution_count": 9,
   "id": "e20e83eb",
   "metadata": {},
   "outputs": [
    {
     "data": {
      "text/plain": [
       "3×3×3 Array{Int64,3}:\n",
       "[:, :, 1] =\n",
       "  8  139827773672128  139827808898912\n",
       "  3  139827768466896  139827802217184\n",
       " 32  139827783722544                1\n",
       "\n",
       "[:, :, 2] =\n",
       " 139827235989392                3  139827796031216\n",
       "               1  139827793547024  139827796031152\n",
       "              -1  139827793546928                2\n",
       "\n",
       "[:, :, 3] =\n",
       "               1                0  139827783722864\n",
       " 139827854094656  139827793547120  139827775807520\n",
       " 139827793547216  139827783722784  139826972131329"
      ]
     },
     "execution_count": 9,
     "metadata": {},
     "output_type": "execute_result"
    }
   ],
   "source": [
    "array = Array{Int64}(undef, 3, 3, 3)"
   ]
  },
  {
   "cell_type": "code",
   "execution_count": 10,
   "id": "12d6f60b",
   "metadata": {},
   "outputs": [
    {
     "data": {
      "text/plain": [
       "Int64[]"
      ]
     },
     "execution_count": 10,
     "metadata": {},
     "output_type": "execute_result"
    }
   ],
   "source": [
    "A = Int64[]"
   ]
  },
  {
   "cell_type": "code",
   "execution_count": 11,
   "id": "c1266330",
   "metadata": {},
   "outputs": [
    {
     "data": {
      "text/plain": [
       "String[]"
      ]
     },
     "execution_count": 11,
     "metadata": {},
     "output_type": "execute_result"
    }
   ],
   "source": [
    "A = String[]"
   ]
  },
  {
   "cell_type": "code",
   "execution_count": 12,
   "id": "95f7c0ce",
   "metadata": {},
   "outputs": [
    {
     "data": {
      "text/plain": [
       "1×10 Array{Int64,2}:\n",
       " 1  2  3  4  5  6  7  8  9  10"
      ]
     },
     "execution_count": 12,
     "metadata": {},
     "output_type": "execute_result"
    }
   ],
   "source": [
    "[1 2 3 4 5 6 7 8 9 10]"
   ]
  },
  {
   "cell_type": "code",
   "execution_count": 15,
   "id": "83b44185",
   "metadata": {},
   "outputs": [
    {
     "data": {
      "text/plain": [
       "2×5 Array{Int64,2}:\n",
       " 1  2  3  4   5\n",
       " 6  7  8  9  10"
      ]
     },
     "execution_count": 15,
     "metadata": {},
     "output_type": "execute_result"
    }
   ],
   "source": [
    "[1 2 3 4 5 ; 6 7 8 9 10;]"
   ]
  },
  {
   "cell_type": "markdown",
   "id": "0638a772",
   "metadata": {},
   "source": [
    "#### Collect() function\n",
    "\n",
    "First useful function to create an array using range objects is collect(). With the help of colon(:) and collect() function, we can create an array using range objects as follows\n",
    "\n",
    "start:step:stop"
   ]
  },
  {
   "cell_type": "code",
   "execution_count": 16,
   "id": "10d7825b",
   "metadata": {},
   "outputs": [
    {
     "data": {
      "text/plain": [
       "5-element Array{Int64,1}:\n",
       " 1\n",
       " 2\n",
       " 3\n",
       " 4\n",
       " 5"
      ]
     },
     "execution_count": 16,
     "metadata": {},
     "output_type": "execute_result"
    }
   ],
   "source": [
    "collect(1:5)"
   ]
  },
  {
   "cell_type": "code",
   "execution_count": 22,
   "id": "4143a7c2",
   "metadata": {},
   "outputs": [
    {
     "data": {
      "text/plain": [
       "0-dimensional Array{Int64,0}:\n",
       "12"
      ]
     },
     "execution_count": 22,
     "metadata": {},
     "output_type": "execute_result"
    }
   ],
   "source": [
    "collect(:12)"
   ]
  },
  {
   "cell_type": "code",
   "execution_count": 23,
   "id": "13b73d42",
   "metadata": {},
   "outputs": [
    {
     "data": {
      "text/plain": [
       "5-element Array{Float64,1}:\n",
       " 1.5\n",
       " 2.5\n",
       " 3.5\n",
       " 4.5\n",
       " 5.5"
      ]
     },
     "execution_count": 23,
     "metadata": {},
     "output_type": "execute_result"
    }
   ],
   "source": [
    "collect(1.5:5.5)"
   ]
  },
  {
   "cell_type": "markdown",
   "id": "b4170f8a",
   "metadata": {},
   "source": [
    "#### ellipsis(…) or splat operator\n",
    "\n",
    "Instead of using collect() function, we can also use splat operator or ellipsis(…) after the last element."
   ]
  },
  {
   "cell_type": "code",
   "execution_count": 24,
   "id": "cd108980",
   "metadata": {},
   "outputs": [
    {
     "data": {
      "text/plain": [
       "11-element Array{Int64,1}:\n",
       "  0\n",
       "  1\n",
       "  2\n",
       "  3\n",
       "  4\n",
       "  5\n",
       "  6\n",
       "  7\n",
       "  8\n",
       "  9\n",
       " 10"
      ]
     },
     "execution_count": 24,
     "metadata": {},
     "output_type": "execute_result"
    }
   ],
   "source": [
    "[0:10...]"
   ]
  },
  {
   "cell_type": "markdown",
   "id": "b0b2c985",
   "metadata": {},
   "source": [
    "#### range() function\n",
    "\n",
    "Range() is another useful function to create an array with range objects. It goes from start value to end value by taking a specific step value."
   ]
  },
  {
   "cell_type": "code",
   "execution_count": 25,
   "id": "b511fee4",
   "metadata": {},
   "outputs": [
    {
     "data": {
      "text/plain": [
       "1.0:10.642857142857142:150.0"
      ]
     },
     "execution_count": 25,
     "metadata": {},
     "output_type": "execute_result"
    }
   ],
   "source": [
    "range(1, length=15, stop=150)"
   ]
  },
  {
   "cell_type": "code",
   "execution_count": 26,
   "id": "cea43699",
   "metadata": {},
   "outputs": [
    {
     "data": {
      "text/plain": [
       "1:10:141"
      ]
     },
     "execution_count": 26,
     "metadata": {},
     "output_type": "execute_result"
    }
   ],
   "source": [
    "range(1, stop=150, step=10)"
   ]
  },
  {
   "cell_type": "code",
   "execution_count": 27,
   "id": "7a4d4534",
   "metadata": {},
   "outputs": [
    {
     "data": {
      "text/plain": [
       "15-element Array{Float64,1}:\n",
       "   1.0\n",
       "  11.642857142857142\n",
       "  22.285714285714285\n",
       "  32.92857142857143\n",
       "  43.57142857142857\n",
       "  54.214285714285715\n",
       "  64.85714285714286\n",
       "  75.5\n",
       "  86.14285714285714\n",
       "  96.78571428571429\n",
       " 107.42857142857143\n",
       " 118.07142857142857\n",
       " 128.71428571428572\n",
       " 139.35714285714286\n",
       " 150.0"
      ]
     },
     "execution_count": 27,
     "metadata": {},
     "output_type": "execute_result"
    }
   ],
   "source": [
    "collect(range(1, length=15, stop=150))"
   ]
  },
  {
   "cell_type": "markdown",
   "id": "f9e9cf2c",
   "metadata": {},
   "source": [
    "Another useful way to create an array is to use comprehensions. In this way, we can create array where each element can produce using a small computation. For example, we can create an array of 10 elements as follows "
   ]
  },
  {
   "cell_type": "code",
   "execution_count": 28,
   "id": "0fe6170e",
   "metadata": {},
   "outputs": [
    {
     "data": {
      "text/plain": [
       "10-element Array{Int64,1}:\n",
       "   1\n",
       "   4\n",
       "   9\n",
       "  16\n",
       "  25\n",
       "  36\n",
       "  49\n",
       "  64\n",
       "  81\n",
       " 100"
      ]
     },
     "execution_count": 28,
     "metadata": {},
     "output_type": "execute_result"
    }
   ],
   "source": [
    "[n^2 for n in 1:10]"
   ]
  },
  {
   "cell_type": "code",
   "execution_count": 29,
   "id": "8ded9316",
   "metadata": {},
   "outputs": [
    {
     "data": {
      "text/plain": [
       "10×10 Array{Int64,2}:\n",
       "  1   2   3   4   5   6   7   8   9   10\n",
       "  2   4   6   8  10  12  14  16  18   20\n",
       "  3   6   9  12  15  18  21  24  27   30\n",
       "  4   8  12  16  20  24  28  32  36   40\n",
       "  5  10  15  20  25  30  35  40  45   50\n",
       "  6  12  18  24  30  36  42  48  54   60\n",
       "  7  14  21  28  35  42  49  56  63   70\n",
       "  8  16  24  32  40  48  56  64  72   80\n",
       "  9  18  27  36  45  54  63  72  81   90\n",
       " 10  20  30  40  50  60  70  80  90  100"
      ]
     },
     "execution_count": 29,
     "metadata": {},
     "output_type": "execute_result"
    }
   ],
   "source": [
    "[n*m for n in 1:10, m in 1:10]"
   ]
  },
  {
   "cell_type": "code",
   "execution_count": 30,
   "id": "1e406318",
   "metadata": {},
   "outputs": [
    {
     "data": {
      "text/plain": [
       "5-element Array{Int64,1}:\n",
       "  1\n",
       "  4\n",
       "  9\n",
       " 16\n",
       " 25"
      ]
     },
     "execution_count": 30,
     "metadata": {},
     "output_type": "execute_result"
    }
   ],
   "source": [
    "collect(n^2 for n in 1:5)"
   ]
  },
  {
   "cell_type": "markdown",
   "id": "38ecf6eb",
   "metadata": {},
   "source": [
    "### Populating an Array\n",
    "\n",
    "Following are the functions with the help of which you can create and fill arrays with specific contents −\n",
    "#### zeros (m, n)\n",
    "\n",
    "This function will create matrix of zeros with m number of rows and n number of columns. The example is given below"
   ]
  },
  {
   "cell_type": "code",
   "execution_count": 31,
   "id": "9199366e",
   "metadata": {},
   "outputs": [
    {
     "data": {
      "text/plain": [
       "4×5 Array{Float64,2}:\n",
       " 0.0  0.0  0.0  0.0  0.0\n",
       " 0.0  0.0  0.0  0.0  0.0\n",
       " 0.0  0.0  0.0  0.0  0.0\n",
       " 0.0  0.0  0.0  0.0  0.0"
      ]
     },
     "execution_count": 31,
     "metadata": {},
     "output_type": "execute_result"
    }
   ],
   "source": [
    "zeros(4,5)"
   ]
  },
  {
   "cell_type": "code",
   "execution_count": 32,
   "id": "fde20175",
   "metadata": {},
   "outputs": [
    {
     "data": {
      "text/plain": [
       "4×5 Array{Int64,2}:\n",
       " 0  0  0  0  0\n",
       " 0  0  0  0  0\n",
       " 0  0  0  0  0\n",
       " 0  0  0  0  0"
      ]
     },
     "execution_count": 32,
     "metadata": {},
     "output_type": "execute_result"
    }
   ],
   "source": [
    "zeros(Int64,4,5)"
   ]
  },
  {
   "cell_type": "markdown",
   "id": "8feff906",
   "metadata": {},
   "source": [
    "#### ones (m, n)\n",
    "\n",
    "This function will create matrix of ones with m number of rows and n number of columns. The example is given below"
   ]
  },
  {
   "cell_type": "code",
   "execution_count": 33,
   "id": "369a6551",
   "metadata": {},
   "outputs": [
    {
     "data": {
      "text/plain": [
       "4×5 Array{Float64,2}:\n",
       " 1.0  1.0  1.0  1.0  1.0\n",
       " 1.0  1.0  1.0  1.0  1.0\n",
       " 1.0  1.0  1.0  1.0  1.0\n",
       " 1.0  1.0  1.0  1.0  1.0"
      ]
     },
     "execution_count": 33,
     "metadata": {},
     "output_type": "execute_result"
    }
   ],
   "source": [
    "ones(4,5)"
   ]
  },
  {
   "cell_type": "markdown",
   "id": "d2de42fc",
   "metadata": {},
   "source": [
    "### rand (m, n)\n",
    "\n",
    "As the name suggests, this function will create matrix of random numbers with m number of rows and n number of columns."
   ]
  },
  {
   "cell_type": "code",
   "execution_count": 36,
   "id": "43c30237",
   "metadata": {},
   "outputs": [
    {
     "data": {
      "text/plain": [
       "4×5 Array{Float64,2}:\n",
       " 0.829394  0.261408   0.301023  0.986204  0.0465898\n",
       " 0.177829  0.191439   0.707557  0.50394   0.249452\n",
       " 0.345841  0.574306   0.100953  0.50094   0.368992\n",
       " 0.995164  0.0407851  0.431756  0.95588   0.555763"
      ]
     },
     "execution_count": 36,
     "metadata": {},
     "output_type": "execute_result"
    }
   ],
   "source": [
    "rand(4,5)"
   ]
  },
  {
   "cell_type": "markdown",
   "id": "a9104ec6",
   "metadata": {},
   "source": [
    "#### randn(m, n)\n",
    "\n",
    "As the name suggests, this function will create m*n matrix of normally distributed random numbers with mean=0 and standard deviation(SD)=1."
   ]
  },
  {
   "cell_type": "code",
   "execution_count": 37,
   "id": "d6cd35af",
   "metadata": {},
   "outputs": [
    {
     "data": {
      "text/plain": [
       "4×5 Array{Float64,2}:\n",
       "  0.658813   -0.755717  -1.43305    0.362785  -1.744\n",
       " -2.49828     0.758181  -0.249511  -1.24204    1.27779\n",
       "  1.00274    -0.210198   2.15374    0.540173   0.652497\n",
       "  0.0225745  -0.462252  -0.577431  -1.82036   -0.234275"
      ]
     },
     "execution_count": 37,
     "metadata": {},
     "output_type": "execute_result"
    }
   ],
   "source": [
    "randn(4,5)"
   ]
  },
  {
   "cell_type": "markdown",
   "id": "3275e5d5",
   "metadata": {},
   "source": [
    "#### fill()\n",
    "\n",
    "This function is used to fill an array with a specific value. More specifically, it will create an array of repeating duplicate value."
   ]
  },
  {
   "cell_type": "code",
   "execution_count": 38,
   "id": "8e7221a4",
   "metadata": {},
   "outputs": [
    {
     "data": {
      "text/plain": [
       "5-element Array{Int64,1}:\n",
       " 100\n",
       " 100\n",
       " 100\n",
       " 100\n",
       " 100"
      ]
     },
     "execution_count": 38,
     "metadata": {},
     "output_type": "execute_result"
    }
   ],
   "source": [
    "fill(100,5)"
   ]
  },
  {
   "cell_type": "markdown",
   "id": "edc14eda",
   "metadata": {},
   "source": [
    "#### fill!()\n",
    "\n",
    "It is similar to fill() function but the sign of exclamation (!) is an indication or warning that the content of an existing array is going to be changed. The example is given below:"
   ]
  },
  {
   "cell_type": "code",
   "execution_count": 39,
   "id": "75b9a247",
   "metadata": {},
   "outputs": [
    {
     "data": {
      "text/plain": [
       "5-element Array{Float64,1}:\n",
       " 1.0\n",
       " 1.0\n",
       " 1.0\n",
       " 1.0\n",
       " 1.0"
      ]
     },
     "execution_count": 39,
     "metadata": {},
     "output_type": "execute_result"
    }
   ],
   "source": [
    "ABC = ones(5)"
   ]
  },
  {
   "cell_type": "code",
   "execution_count": 40,
   "id": "f3c48f7d",
   "metadata": {},
   "outputs": [
    {
     "data": {
      "text/plain": [
       "5-element Array{Float64,1}:\n",
       " 100.0\n",
       " 100.0\n",
       " 100.0\n",
       " 100.0\n",
       " 100.0"
      ]
     },
     "execution_count": 40,
     "metadata": {},
     "output_type": "execute_result"
    }
   ],
   "source": [
    "fill!(ABC,100)"
   ]
  },
  {
   "cell_type": "code",
   "execution_count": 41,
   "id": "4fa384a4",
   "metadata": {},
   "outputs": [
    {
     "data": {
      "text/plain": [
       "5-element Array{Float64,1}:\n",
       " 100.0\n",
       " 100.0\n",
       " 100.0\n",
       " 100.0\n",
       " 100.0"
      ]
     },
     "execution_count": 41,
     "metadata": {},
     "output_type": "execute_result"
    }
   ],
   "source": [
    "ABC"
   ]
  },
  {
   "cell_type": "markdown",
   "id": "b03d1136",
   "metadata": {},
   "source": [
    "### Array Constructor\n",
    "\n",
    "The function Array(), we have studied earlier, can build array of a specific type as follows −"
   ]
  },
  {
   "cell_type": "code",
   "execution_count": 42,
   "id": "b0d1592e",
   "metadata": {},
   "outputs": [
    {
     "data": {
      "text/plain": [
       "5-element Array{Int64,1}:\n",
       " 139827228905136\n",
       " 139827228905232\n",
       " 139827228905280\n",
       " 139827228905328\n",
       " 139827228905376"
      ]
     },
     "execution_count": 42,
     "metadata": {},
     "output_type": "execute_result"
    }
   ],
   "source": [
    "Array{Int64}(undef, 5)"
   ]
  },
  {
   "cell_type": "markdown",
   "id": "bbcef106",
   "metadata": {},
   "source": [
    "#### Arrays of arrays"
   ]
  },
  {
   "cell_type": "code",
   "execution_count": 43,
   "id": "ac454d88",
   "metadata": {},
   "outputs": [
    {
     "data": {
      "text/plain": [
       "2-element Array{Array,1}:\n",
       " [3, 4]\n",
       " [5, 6]"
      ]
     },
     "execution_count": 43,
     "metadata": {},
     "output_type": "execute_result"
    }
   ],
   "source": [
    "ABC = Array[[3,4],[5,6]]"
   ]
  },
  {
   "cell_type": "code",
   "execution_count": 44,
   "id": "b6c310c7",
   "metadata": {},
   "outputs": [
    {
     "data": {
      "text/plain": [
       "2-element Array{Array,1}:\n",
       " [1, 2, 3, 4, 5]\n",
       " [6, 7, 8, 9, 10]"
      ]
     },
     "execution_count": 44,
     "metadata": {},
     "output_type": "execute_result"
    }
   ],
   "source": [
    "Array[1:5,6:10]"
   ]
  },
  {
   "cell_type": "markdown",
   "id": "ad241b3a",
   "metadata": {},
   "source": [
    "#### Copying arrays\n",
    "\n",
    "Suppose you have an array and want to create another array with similar dimensions, then you can use similar() function as follows"
   ]
  },
  {
   "cell_type": "code",
   "execution_count": 45,
   "id": "04668790",
   "metadata": {},
   "outputs": [
    {
     "data": {
      "text/plain": [
       "5-element Array{Int64,1}:\n",
       " 1\n",
       " 2\n",
       " 3\n",
       " 4\n",
       " 5"
      ]
     },
     "execution_count": 45,
     "metadata": {},
     "output_type": "execute_result"
    }
   ],
   "source": [
    "A = collect(1:5);\n",
    "# Here we have hide the values with the help of semicolon(;)"
   ]
  },
  {
   "cell_type": "code",
   "execution_count": 46,
   "id": "607d1a49",
   "metadata": {},
   "outputs": [
    {
     "data": {
      "text/plain": [
       "5-element Array{Int64,1}:\n",
       "               0\n",
       "               1\n",
       " 139827758481408\n",
       "               2\n",
       "               1"
      ]
     },
     "execution_count": 46,
     "metadata": {},
     "output_type": "execute_result"
    }
   ],
   "source": [
    "B = similar(A)"
   ]
  },
  {
   "cell_type": "code",
   "execution_count": 47,
   "id": "f8372bce",
   "metadata": {},
   "outputs": [
    {
     "data": {
      "text/plain": [
       "5-element Array{Int64,1}:\n",
       " 1\n",
       " 2\n",
       " 3\n",
       " 4\n",
       " 5"
      ]
     },
     "execution_count": 47,
     "metadata": {},
     "output_type": "execute_result"
    }
   ],
   "source": [
    "A = collect(1:5)"
   ]
  },
  {
   "cell_type": "code",
   "execution_count": 48,
   "id": "8650f569",
   "metadata": {},
   "outputs": [
    {
     "data": {
      "text/plain": [
       "5-element Array{Int64,1}:\n",
       " 139827924468704\n",
       " 139827918789120\n",
       " 139827918317216\n",
       " 139827758481648\n",
       " 139827815961904"
      ]
     },
     "execution_count": 48,
     "metadata": {},
     "output_type": "execute_result"
    }
   ],
   "source": [
    "B = similar(A)"
   ]
  },
  {
   "cell_type": "markdown",
   "id": "b2019829",
   "metadata": {},
   "source": [
    "### Matrix Operations\n",
    "\n",
    "As we know that a two-dimensional (2D) array can be used as a matrix so all the functions that are available for working on arrays can also be used as matrices. The condition is that the dimensions and contents should permit. If you want to type a matrix, use spaces to make rows and semicolon(;) to separate the rows as follows"
   ]
  },
  {
   "cell_type": "code",
   "execution_count": 49,
   "id": "9e83b944",
   "metadata": {},
   "outputs": [
    {
     "data": {
      "text/plain": [
       "2×2 Array{Int64,2}:\n",
       " 2  3\n",
       " 4  5"
      ]
     },
     "execution_count": 49,
     "metadata": {},
     "output_type": "execute_result"
    }
   ],
   "source": [
    "[2 3 ; 4 5]"
   ]
  },
  {
   "cell_type": "code",
   "execution_count": 50,
   "id": "bdff6f41",
   "metadata": {},
   "outputs": [
    {
     "data": {
      "text/plain": [
       "2-element Array{Array,1}:\n",
       " [3, 4]\n",
       " [5, 6]"
      ]
     },
     "execution_count": 50,
     "metadata": {},
     "output_type": "execute_result"
    }
   ],
   "source": [
    "Array[[3,4],[5,6]]"
   ]
  },
  {
   "cell_type": "code",
   "execution_count": 51,
   "id": "2032acf2",
   "metadata": {},
   "outputs": [
    {
     "data": {
      "text/plain": [
       "2×2 Array{Int64,2}:\n",
       " 3  5\n",
       " 4  6"
      ]
     },
     "execution_count": 51,
     "metadata": {},
     "output_type": "execute_result"
    }
   ],
   "source": [
    "[[3,4] [5,6]]"
   ]
  },
  {
   "cell_type": "markdown",
   "id": "76f2cca0",
   "metadata": {},
   "source": [
    "Accessing the contents of arrays\n",
    "\n",
    "In Julia, to access the contents/particular element of an array, you need to write the name of the array with the element number in square bracket."
   ]
  },
  {
   "cell_type": "code",
   "execution_count": 52,
   "id": "b74a5576",
   "metadata": {},
   "outputs": [
    {
     "data": {
      "text/plain": [
       "10-element Array{Int64,1}:\n",
       "  5\n",
       " 10\n",
       " 15\n",
       " 20\n",
       " 25\n",
       " 30\n",
       " 35\n",
       " 40\n",
       " 45\n",
       " 50"
      ]
     },
     "execution_count": 52,
     "metadata": {},
     "output_type": "execute_result"
    }
   ],
   "source": [
    "arr = [5,10,15,20,25,30,35,40,45,50]"
   ]
  },
  {
   "cell_type": "code",
   "execution_count": 53,
   "id": "18499720",
   "metadata": {},
   "outputs": [
    {
     "data": {
      "text/plain": [
       "(5, 10)"
      ]
     },
     "execution_count": 53,
     "metadata": {},
     "output_type": "execute_result"
    }
   ],
   "source": [
    "arr[1], arr[2]"
   ]
  },
  {
   "cell_type": "code",
   "execution_count": 54,
   "id": "aa320875",
   "metadata": {},
   "outputs": [
    {
     "ename": "LoadError",
     "evalue": "\u001b[91mBoundsError: attempt to access 10-element Array{Int64,1} at index [0]\u001b[39m",
     "output_type": "error",
     "traceback": [
      "\u001b[91mBoundsError: attempt to access 10-element Array{Int64,1} at index [0]\u001b[39m",
      "",
      "Stacktrace:",
      " [1] getindex(::Array{Int64,1}, ::Int64) at ./array.jl:809",
      " [2] top-level scope at In[54]:1",
      " [3] include_string(::Function, ::Module, ::String, ::String) at ./loading.jl:1091"
     ]
    }
   ],
   "source": [
    "arr[0]"
   ]
  },
  {
   "cell_type": "code",
   "execution_count": 55,
   "id": "63151da6",
   "metadata": {},
   "outputs": [
    {
     "data": {
      "text/plain": [
       "50"
      ]
     },
     "execution_count": 55,
     "metadata": {},
     "output_type": "execute_result"
    }
   ],
   "source": [
    "arr[end]"
   ]
  },
  {
   "cell_type": "code",
   "execution_count": 56,
   "id": "e775605c",
   "metadata": {},
   "outputs": [
    {
     "data": {
      "text/plain": [
       "45"
      ]
     },
     "execution_count": 56,
     "metadata": {},
     "output_type": "execute_result"
    }
   ],
   "source": [
    "arr[end-1]"
   ]
  },
  {
   "cell_type": "code",
   "execution_count": 57,
   "id": "357d0939",
   "metadata": {},
   "outputs": [
    {
     "data": {
      "text/plain": [
       "3-element Array{Int64,1}:\n",
       " 10\n",
       " 25\n",
       " 30"
      ]
     },
     "execution_count": 57,
     "metadata": {},
     "output_type": "execute_result"
    }
   ],
   "source": [
    "# To access more than one element at a time, we can also provide a bunch of index numbers as shown below \n",
    "arr[[2,5,6]]"
   ]
  },
  {
   "cell_type": "code",
   "execution_count": 58,
   "id": "bd00846d",
   "metadata": {},
   "outputs": [
    {
     "data": {
      "text/plain": [
       "6-element Array{Int64,1}:\n",
       "  5\n",
       " 15\n",
       " 20\n",
       " 25\n",
       " 40\n",
       " 45"
      ]
     },
     "execution_count": 58,
     "metadata": {},
     "output_type": "execute_result"
    }
   ],
   "source": [
    "arr[[true, false, true, true,true, false, false, true, true, false]]"
   ]
  },
  {
   "cell_type": "code",
   "execution_count": 59,
   "id": "10e8feb3",
   "metadata": {},
   "outputs": [
    {
     "data": {
      "text/plain": [
       "3×3 Array{Int64,2}:\n",
       " 10  11  12\n",
       " 13  14  15\n",
       " 16  17  18"
      ]
     },
     "execution_count": 59,
     "metadata": {},
     "output_type": "execute_result"
    }
   ],
   "source": [
    "arr2 = [10 11 12; 13 14 15; 16 17 18]"
   ]
  },
  {
   "cell_type": "code",
   "execution_count": 60,
   "id": "91ad2691",
   "metadata": {},
   "outputs": [
    {
     "data": {
      "text/plain": [
       "13"
      ]
     },
     "execution_count": 60,
     "metadata": {},
     "output_type": "execute_result"
    }
   ],
   "source": [
    "arr2[2]"
   ]
  },
  {
   "cell_type": "code",
   "execution_count": 61,
   "id": "c5776e3d",
   "metadata": {},
   "outputs": [
    {
     "data": {
      "text/plain": [
       "16"
      ]
     },
     "execution_count": 61,
     "metadata": {},
     "output_type": "execute_result"
    }
   ],
   "source": [
    "arr2[3]"
   ]
  },
  {
   "cell_type": "code",
   "execution_count": 62,
   "id": "8cff9f19",
   "metadata": {},
   "outputs": [
    {
     "data": {
      "text/plain": [
       "11"
      ]
     },
     "execution_count": 62,
     "metadata": {},
     "output_type": "execute_result"
    }
   ],
   "source": [
    "arr2[1,2]"
   ]
  },
  {
   "cell_type": "code",
   "execution_count": 63,
   "id": "fd7d1c65",
   "metadata": {},
   "outputs": [
    {
     "data": {
      "text/plain": [
       "12"
      ]
     },
     "execution_count": 63,
     "metadata": {},
     "output_type": "execute_result"
    }
   ],
   "source": [
    "arr2[1,3]"
   ]
  },
  {
   "cell_type": "code",
   "execution_count": 64,
   "id": "424740e5",
   "metadata": {},
   "outputs": [
    {
     "data": {
      "text/plain": [
       "11"
      ]
     },
     "execution_count": 64,
     "metadata": {},
     "output_type": "execute_result"
    }
   ],
   "source": [
    "getindex(arr2,1,2)"
   ]
  },
  {
   "cell_type": "code",
   "execution_count": 65,
   "id": "fb374a11",
   "metadata": {},
   "outputs": [
    {
     "data": {
      "text/plain": [
       "15"
      ]
     },
     "execution_count": 65,
     "metadata": {},
     "output_type": "execute_result"
    }
   ],
   "source": [
    "getindex(arr2,2,3)"
   ]
  },
  {
   "cell_type": "markdown",
   "id": "7b6231d0",
   "metadata": {},
   "source": [
    "### Adding Elements\n",
    "\n",
    "We can add elements to an array in Julia at the end, at the front and at the given index using push!(), pushfirst!() and splice!() functions respectively.\n",
    "#### At the end\n",
    "\n",
    "We can use push!() function to add an element at the end of an array. For example,"
   ]
  },
  {
   "cell_type": "code",
   "execution_count": 66,
   "id": "8167f5f5",
   "metadata": {},
   "outputs": [
    {
     "data": {
      "text/plain": [
       "11-element Array{Int64,1}:\n",
       "  5\n",
       " 10\n",
       " 15\n",
       " 20\n",
       " 25\n",
       " 30\n",
       " 35\n",
       " 40\n",
       " 45\n",
       " 50\n",
       " 55"
      ]
     },
     "execution_count": 66,
     "metadata": {},
     "output_type": "execute_result"
    }
   ],
   "source": [
    "push!(arr,55)"
   ]
  },
  {
   "cell_type": "markdown",
   "id": "93e554e8",
   "metadata": {},
   "source": [
    "Remember we had 10 elements in array arr. Now push!() function added the element 55 at the end of this array.\n",
    "\n",
    "The exclamation(!) sign represents that the function is going to change the array."
   ]
  },
  {
   "cell_type": "markdown",
   "id": "1ed89785",
   "metadata": {},
   "source": [
    "#### At the front\n",
    "\n",
    "We can use pushfirst!() function to add an element at the front of an array. For example,"
   ]
  },
  {
   "cell_type": "code",
   "execution_count": 67,
   "id": "3359cd90",
   "metadata": {},
   "outputs": [
    {
     "data": {
      "text/plain": [
       "12-element Array{Int64,1}:\n",
       "  0\n",
       "  5\n",
       " 10\n",
       " 15\n",
       " 20\n",
       " 25\n",
       " 30\n",
       " 35\n",
       " 40\n",
       " 45\n",
       " 50\n",
       " 55"
      ]
     },
     "execution_count": 67,
     "metadata": {},
     "output_type": "execute_result"
    }
   ],
   "source": [
    "pushfirst!(arr,0)"
   ]
  },
  {
   "cell_type": "code",
   "execution_count": 68,
   "id": "ea61df5e",
   "metadata": {},
   "outputs": [
    {
     "data": {
      "text/plain": [
       "12-element Array{Int64,1}:\n",
       "  0\n",
       "  5\n",
       " 10\n",
       " 15\n",
       " 20\n",
       " 25\n",
       " 30\n",
       " 35\n",
       " 40\n",
       " 45\n",
       " 50\n",
       " 55"
      ]
     },
     "execution_count": 68,
     "metadata": {},
     "output_type": "execute_result"
    }
   ],
   "source": [
    "arr"
   ]
  },
  {
   "cell_type": "markdown",
   "id": "4234ea0b",
   "metadata": {},
   "source": [
    "#### At a given index\n",
    "\n",
    "We can use splice!() function to add an element into an array at a given index. For example,"
   ]
  },
  {
   "cell_type": "markdown",
   "id": "8cb6abe6",
   "metadata": {},
   "source": [
    "### Removing Elements\n",
    "\n",
    "We can remove elements at last position, first position and at the given index, from an array in Julia, using pop!(), popfirst!() and splice!() functions respectively.\n",
    "#### Remove the last element\n",
    "\n",
    "We can use pop!() function to remove the last element of an array. For example,"
   ]
  },
  {
   "cell_type": "code",
   "execution_count": 69,
   "id": "90cb1719",
   "metadata": {},
   "outputs": [
    {
     "data": {
      "text/plain": [
       "55"
      ]
     },
     "execution_count": 69,
     "metadata": {},
     "output_type": "execute_result"
    }
   ],
   "source": [
    "pop!(arr)"
   ]
  },
  {
   "cell_type": "code",
   "execution_count": 70,
   "id": "c8c2c86f",
   "metadata": {},
   "outputs": [
    {
     "data": {
      "text/plain": [
       "11-element Array{Int64,1}:\n",
       "  0\n",
       "  5\n",
       " 10\n",
       " 15\n",
       " 20\n",
       " 25\n",
       " 30\n",
       " 35\n",
       " 40\n",
       " 45\n",
       " 50"
      ]
     },
     "execution_count": 70,
     "metadata": {},
     "output_type": "execute_result"
    }
   ],
   "source": [
    "arr"
   ]
  },
  {
   "cell_type": "markdown",
   "id": "ce46f082",
   "metadata": {},
   "source": [
    "#### Removing the first element\n",
    "\n",
    "We can use popfirst!() function to remove the first element of an array. For example,"
   ]
  },
  {
   "cell_type": "code",
   "execution_count": 71,
   "id": "44ff6827",
   "metadata": {},
   "outputs": [
    {
     "data": {
      "text/plain": [
       "0"
      ]
     },
     "execution_count": 71,
     "metadata": {},
     "output_type": "execute_result"
    }
   ],
   "source": [
    "popfirst!(arr)"
   ]
  },
  {
   "cell_type": "markdown",
   "id": "1b9a9525",
   "metadata": {},
   "source": [
    "#### Removing element at given position\n",
    "\n",
    "We can use splice!() function to remove the element from a given position of an array. For example,"
   ]
  },
  {
   "cell_type": "code",
   "execution_count": 73,
   "id": "daf5101d",
   "metadata": {},
   "outputs": [
    {
     "data": {
      "text/plain": [
       "25"
      ]
     },
     "execution_count": 73,
     "metadata": {},
     "output_type": "execute_result"
    }
   ],
   "source": [
    "splice!(arr,5)"
   ]
  },
  {
   "cell_type": "markdown",
   "id": "27a6e341",
   "metadata": {},
   "source": [
    "### Tuples"
   ]
  },
  {
   "cell_type": "markdown",
   "id": "7b0c1aca",
   "metadata": {},
   "source": [
    "Similar to an array, tuple is also an ordered set of elements. Tuples work in almost the same way as arrays but there are following important differences between them −\n",
    "\n",
    "1. An array is represented by square brackets whereas a tuple is represented by parentheses and commas.\n",
    "2. Tuples are immutable."
   ]
  },
  {
   "cell_type": "code",
   "execution_count": 1,
   "id": "3e547dd8",
   "metadata": {},
   "outputs": [
    {
     "data": {
      "text/plain": [
       "(5, 10, 15, 20, 25, 30)"
      ]
     },
     "execution_count": 1,
     "metadata": {},
     "output_type": "execute_result"
    }
   ],
   "source": [
    "tupl=(5,10,15,20,25,30)"
   ]
  },
  {
   "cell_type": "code",
   "execution_count": 2,
   "id": "2a1d3136",
   "metadata": {},
   "outputs": [
    {
     "data": {
      "text/plain": [
       "(5, 10, 15, 20, 25, 30)"
      ]
     },
     "execution_count": 2,
     "metadata": {},
     "output_type": "execute_result"
    }
   ],
   "source": [
    "tupl"
   ]
  },
  {
   "cell_type": "code",
   "execution_count": 3,
   "id": "58ee07a2",
   "metadata": {},
   "outputs": [
    {
     "data": {
      "text/plain": [
       "(15, 20, 25, 30)"
      ]
     },
     "execution_count": 3,
     "metadata": {},
     "output_type": "execute_result"
    }
   ],
   "source": [
    "tupl[3:end]"
   ]
  },
  {
   "cell_type": "code",
   "execution_count": 4,
   "id": "a5bd8fb0",
   "metadata": {},
   "outputs": [
    {
     "data": {
      "text/plain": [
       "((1, 2), (3, 4))"
      ]
     },
     "execution_count": 4,
     "metadata": {},
     "output_type": "execute_result"
    }
   ],
   "source": [
    "tupl = ((1,2),(3,4))"
   ]
  },
  {
   "cell_type": "code",
   "execution_count": 5,
   "id": "4d046eda",
   "metadata": {},
   "outputs": [
    {
     "data": {
      "text/plain": [
       "(1, 2)"
      ]
     },
     "execution_count": 5,
     "metadata": {},
     "output_type": "execute_result"
    }
   ],
   "source": [
    "tupl[1]"
   ]
  },
  {
   "cell_type": "code",
   "execution_count": 12,
   "id": "18b60966",
   "metadata": {},
   "outputs": [
    {
     "data": {
      "text/plain": [
       "2"
      ]
     },
     "execution_count": 12,
     "metadata": {},
     "output_type": "execute_result"
    }
   ],
   "source": [
    "tupl[1][2]"
   ]
  },
  {
   "cell_type": "markdown",
   "id": "61f3137e",
   "metadata": {},
   "source": [
    "### Named tuples\n",
    "\n",
    "A named tuple is simply a combination of a tuple and a dictionary because −\n",
    "1. A named tuple is ordered and immutable like a tuple and\n",
    "2. Like a dictionary in named tuple, each element has a unique key which can be used to access it."
   ]
  },
  {
   "cell_type": "markdown",
   "id": "8671be49",
   "metadata": {},
   "source": [
    "#### Keys and values in separate tuples\n",
    "\n",
    "One way to create named tuples is by providing keys and values in separate tuples."
   ]
  },
  {
   "cell_type": "code",
   "execution_count": 14,
   "id": "704ad72a",
   "metadata": {},
   "outputs": [
    {
     "data": {
      "text/plain": [
       "(:corner1, :corner2)"
      ]
     },
     "execution_count": 14,
     "metadata": {},
     "output_type": "execute_result"
    }
   ],
   "source": [
    "names_shape = (:corner1, :corner2)"
   ]
  },
  {
   "cell_type": "code",
   "execution_count": 15,
   "id": "253f7817",
   "metadata": {},
   "outputs": [
    {
     "data": {
      "text/plain": [
       "((100, 100), (200, 200))"
      ]
     },
     "execution_count": 15,
     "metadata": {},
     "output_type": "execute_result"
    }
   ],
   "source": [
    "values_shape = ((100, 100), (200, 200))"
   ]
  },
  {
   "cell_type": "code",
   "execution_count": 16,
   "id": "8152c418",
   "metadata": {},
   "outputs": [
    {
     "data": {
      "text/plain": [
       "(corner1 = (100, 100), corner2 = (200, 200))"
      ]
     },
     "execution_count": 16,
     "metadata": {},
     "output_type": "execute_result"
    }
   ],
   "source": [
    "shape_item2 = NamedTuple{names_shape}(values_shape)"
   ]
  },
  {
   "cell_type": "code",
   "execution_count": 17,
   "id": "1f857503",
   "metadata": {},
   "outputs": [
    {
     "data": {
      "text/plain": [
       "(100, 100)"
      ]
     },
     "execution_count": 17,
     "metadata": {},
     "output_type": "execute_result"
    }
   ],
   "source": [
    "# accessing the keys\n",
    "shape_item2.corner1"
   ]
  },
  {
   "cell_type": "code",
   "execution_count": 18,
   "id": "68e46758",
   "metadata": {},
   "outputs": [
    {
     "data": {
      "text/plain": [
       "(200, 200)"
      ]
     },
     "execution_count": 18,
     "metadata": {},
     "output_type": "execute_result"
    }
   ],
   "source": [
    "shape_item2.corner2"
   ]
  },
  {
   "cell_type": "markdown",
   "id": "69264e9e",
   "metadata": {},
   "source": [
    "### Keys and values in a single tuple\n",
    "We can also create named tuples by providing keys and values in a single tuple."
   ]
  },
  {
   "cell_type": "code",
   "execution_count": 19,
   "id": "7a949861",
   "metadata": {},
   "outputs": [
    {
     "data": {
      "text/plain": [
       "(corner1 = (1, 1), corner2 = (-1, -1), center = (0, 0))"
      ]
     },
     "execution_count": 19,
     "metadata": {},
     "output_type": "execute_result"
    }
   ],
   "source": [
    "shape_item = (corner1 = (1, 1), corner2 = (-1, -1), center = (0, 0))"
   ]
  },
  {
   "cell_type": "code",
   "execution_count": 20,
   "id": "8fc6d7cb",
   "metadata": {},
   "outputs": [
    {
     "data": {
      "text/plain": [
       "(1, 1)"
      ]
     },
     "execution_count": 20,
     "metadata": {},
     "output_type": "execute_result"
    }
   ],
   "source": [
    "shape_item.corner1"
   ]
  },
  {
   "cell_type": "code",
   "execution_count": 21,
   "id": "2071b419",
   "metadata": {},
   "outputs": [
    {
     "data": {
      "text/plain": [
       "(corner1 = (1, 1), corner2 = (-1, -1), center = (0, 0))"
      ]
     },
     "execution_count": 21,
     "metadata": {},
     "output_type": "execute_result"
    }
   ],
   "source": [
    "c1, c2, center = shape_item"
   ]
  },
  {
   "cell_type": "code",
   "execution_count": 22,
   "id": "94476e1f",
   "metadata": {},
   "outputs": [
    {
     "data": {
      "text/plain": [
       "(1, 1)"
      ]
     },
     "execution_count": 22,
     "metadata": {},
     "output_type": "execute_result"
    }
   ],
   "source": [
    "c1"
   ]
  },
  {
   "cell_type": "markdown",
   "id": "97341a00",
   "metadata": {},
   "source": [
    "### Combining two named tuples\n",
    "Julia provides us a way to make new named tuples by combining two named tuples together as follows "
   ]
  },
  {
   "cell_type": "code",
   "execution_count": 23,
   "id": "61113e04",
   "metadata": {},
   "outputs": [
    {
     "data": {
      "text/plain": [
       "(top = \"red\", bottom = \"green\")"
      ]
     },
     "execution_count": 23,
     "metadata": {},
     "output_type": "execute_result"
    }
   ],
   "source": [
    "colors_shape = (top = \"red\", bottom = \"green\")"
   ]
  },
  {
   "cell_type": "code",
   "execution_count": 24,
   "id": "aede305e",
   "metadata": {},
   "outputs": [
    {
     "data": {
      "text/plain": [
       "(corner1 = (1, 1), corner2 = (-1, -1), center = (0, 0))"
      ]
     },
     "execution_count": 24,
     "metadata": {},
     "output_type": "execute_result"
    }
   ],
   "source": [
    "shape_item = (corner1 = (1, 1), corner2 = (-1, -1), center = (0, 0))"
   ]
  },
  {
   "cell_type": "code",
   "execution_count": 25,
   "id": "11adedbe",
   "metadata": {},
   "outputs": [
    {
     "data": {
      "text/plain": [
       "(corner1 = (1, 1), corner2 = (-1, -1), center = (0, 0), top = \"red\", bottom = \"green\")"
      ]
     },
     "execution_count": 25,
     "metadata": {},
     "output_type": "execute_result"
    }
   ],
   "source": [
    "merge(shape_item, colors_shape)"
   ]
  },
  {
   "cell_type": "markdown",
   "id": "31f8d3b6",
   "metadata": {},
   "source": [
    "#### Named tuples as keyword arguments\n",
    "If you want to pass a group of keyword arguments to a function, named tuple is a convenient way to do so in Julia. Following is the example of a function that accepts three keyword arguments −"
   ]
  },
  {
   "cell_type": "markdown",
   "id": "ee6416aa",
   "metadata": {},
   "source": [
    "### Numeric Primitive\n",
    "In any programming language, there are two basic building blocks of arithmetic and computation. They are integers and floating-point values. Built-in representation of the values of integers and floating-point are called numeric primitives. On the other hand, their representation as immediate values in code are called numeric literals."
   ]
  },
  {
   "cell_type": "code",
   "execution_count": 26,
   "id": "f3493890",
   "metadata": {},
   "outputs": [
    {
     "data": {
      "text/plain": [
       "64"
      ]
     },
     "execution_count": 26,
     "metadata": {},
     "output_type": "execute_result"
    }
   ],
   "source": [
    "Sys.WORD_SIZE"
   ]
  },
  {
   "cell_type": "markdown",
   "id": "b8f3dcad",
   "metadata": {},
   "source": [
    "### Overflow behavior\n",
    "In Julia, if the maximum representable value of a given type exceeds, then it results in a wraparound behavior. For example"
   ]
  },
  {
   "cell_type": "code",
   "execution_count": 27,
   "id": "e636814e",
   "metadata": {},
   "outputs": [
    {
     "data": {
      "text/plain": [
       "9223372036854775807"
      ]
     },
     "execution_count": 27,
     "metadata": {},
     "output_type": "execute_result"
    }
   ],
   "source": [
    "A = typemax(Int64)"
   ]
  },
  {
   "cell_type": "code",
   "execution_count": 28,
   "id": "9410f661",
   "metadata": {},
   "outputs": [
    {
     "data": {
      "text/plain": [
       "-9223372036854775808"
      ]
     },
     "execution_count": 28,
     "metadata": {},
     "output_type": "execute_result"
    }
   ],
   "source": [
    "A+1"
   ]
  },
  {
   "cell_type": "markdown",
   "id": "36f93287",
   "metadata": {},
   "source": [
    "It is recommended to explicitly check for wraparound produced by overflow especially where overflow is possible. Otherwise use BigInt type in Arbitrary Precision Arithmetic.\n",
    "\n",
    "Below is an example of overflow behavior and how we can resolve it −"
   ]
  },
  {
   "cell_type": "code",
   "execution_count": 29,
   "id": "873c3e55",
   "metadata": {},
   "outputs": [
    {
     "data": {
      "text/plain": [
       "-8446744073709551616"
      ]
     },
     "execution_count": 29,
     "metadata": {},
     "output_type": "execute_result"
    }
   ],
   "source": [
    "10^19"
   ]
  },
  {
   "cell_type": "code",
   "execution_count": 30,
   "id": "4941a798",
   "metadata": {},
   "outputs": [
    {
     "data": {
      "text/plain": [
       "10000000000000000000"
      ]
     },
     "execution_count": 30,
     "metadata": {},
     "output_type": "execute_result"
    }
   ],
   "source": [
    "big(10)^19"
   ]
  },
  {
   "cell_type": "markdown",
   "id": "33944b30",
   "metadata": {},
   "source": [
    "### Division errors\n",
    "Integer division throws a DivideError in the following two exceptional cases −\n",
    "\n",
    "1. Dividing by zero\n",
    "2. Dividing the lowest negative number\n",
    "\n",
    "The rem (remainder) and mod (modulus) functions will throw a DivideError whenever their second argument is zero. The example are given below −"
   ]
  },
  {
   "cell_type": "code",
   "execution_count": 31,
   "id": "f6f98536",
   "metadata": {},
   "outputs": [
    {
     "ename": "LoadError",
     "evalue": "\u001b[91mDivideError: integer division error\u001b[39m",
     "output_type": "error",
     "traceback": [
      "\u001b[91mDivideError: integer division error\u001b[39m",
      "",
      "Stacktrace:",
      " [1] div at ./int.jl:260 [inlined]",
      " [2] div at ./div.jl:217 [inlined]",
      " [3] div at ./div.jl:262 [inlined]",
      " [4] fld at ./div.jl:228 [inlined]",
      " [5] mod(::Int64, ::Int64) at ./int.jl:252",
      " [6] top-level scope at In[31]:1",
      " [7] include_string(::Function, ::Module, ::String, ::String) at ./loading.jl:1091"
     ]
    }
   ],
   "source": [
    "mod(1, 0)"
   ]
  },
  {
   "cell_type": "code",
   "execution_count": 32,
   "id": "8f282582",
   "metadata": {},
   "outputs": [
    {
     "ename": "LoadError",
     "evalue": "\u001b[91mDivideError: integer division error\u001b[39m",
     "output_type": "error",
     "traceback": [
      "\u001b[91mDivideError: integer division error\u001b[39m",
      "",
      "Stacktrace:",
      " [1] rem(::Int64, ::Int64) at ./int.jl:261",
      " [2] top-level scope at In[32]:1",
      " [3] include_string(::Function, ::Module, ::String, ::String) at ./loading.jl:1091"
     ]
    }
   ],
   "source": [
    "rem(1, 0)"
   ]
  },
  {
   "cell_type": "markdown",
   "id": "b65608f9",
   "metadata": {},
   "source": [
    "### Floating-point numbers\n",
    "Another primitive numeric types in Julia is floating-point numbers. It is represented (using E-notation when needed) as follows"
   ]
  },
  {
   "cell_type": "code",
   "execution_count": 33,
   "id": "31b55eaa",
   "metadata": {},
   "outputs": [
    {
     "data": {
      "text/plain": [
       "2.0e11"
      ]
     },
     "execution_count": 33,
     "metadata": {},
     "output_type": "execute_result"
    }
   ],
   "source": [
    "2e11"
   ]
  },
  {
   "cell_type": "markdown",
   "id": "0bd8516d",
   "metadata": {},
   "source": [
    "All the above results are Float64. If we would like to enter Float32 literal, they can be written by writing f in the place of e as follows "
   ]
  },
  {
   "cell_type": "code",
   "execution_count": 34,
   "id": "bd5b6f1a",
   "metadata": {},
   "outputs": [
    {
     "data": {
      "text/plain": [
       "5.0f-6"
      ]
     },
     "execution_count": 34,
     "metadata": {},
     "output_type": "execute_result"
    }
   ],
   "source": [
    "0.5f-5"
   ]
  },
  {
   "cell_type": "code",
   "execution_count": 35,
   "id": "760792e9",
   "metadata": {},
   "outputs": [
    {
     "data": {
      "text/plain": [
       "Float32"
      ]
     },
     "execution_count": 35,
     "metadata": {},
     "output_type": "execute_result"
    }
   ],
   "source": [
    "typeof(ans)"
   ]
  },
  {
   "cell_type": "code",
   "execution_count": 36,
   "id": "bf0b887d",
   "metadata": {},
   "outputs": [
    {
     "data": {
      "text/plain": [
       "Float32"
      ]
     },
     "execution_count": 36,
     "metadata": {},
     "output_type": "execute_result"
    }
   ],
   "source": [
    "ans"
   ]
  },
  {
   "cell_type": "code",
   "execution_count": 37,
   "id": "ae2cd616",
   "metadata": {},
   "outputs": [
    {
     "data": {
      "text/plain": [
       "\"0000000000000000000000000000000000000000000000000000000000000000\""
      ]
     },
     "execution_count": 37,
     "metadata": {},
     "output_type": "execute_result"
    }
   ],
   "source": [
    "bitstring(0.0)"
   ]
  },
  {
   "cell_type": "code",
   "execution_count": 38,
   "id": "a735086b",
   "metadata": {},
   "outputs": [
    {
     "data": {
      "text/plain": [
       "\"1000000000000000000000000000000000000000000000000000000000000000\""
      ]
     },
     "execution_count": 38,
     "metadata": {},
     "output_type": "execute_result"
    }
   ],
   "source": [
    "bitstring(-0.0)"
   ]
  },
  {
   "cell_type": "markdown",
   "id": "b2df98c5",
   "metadata": {},
   "source": [
    "#### Special floating-point values\n",
    "The table below represents three specified standard floating-point values. These floating-point values do not correspond to any point on the real number line.\n",
    "\n",
    "1. inf, -inf, nan"
   ]
  },
  {
   "cell_type": "code",
   "execution_count": 39,
   "id": "9df5404a",
   "metadata": {},
   "outputs": [
    {
     "data": {
      "text/plain": [
       "(-Inf16, Inf16)"
      ]
     },
     "execution_count": 39,
     "metadata": {},
     "output_type": "execute_result"
    }
   ],
   "source": [
    "(typemin(Float16),typemax(Float16))"
   ]
  },
  {
   "cell_type": "code",
   "execution_count": 40,
   "id": "90786223",
   "metadata": {},
   "outputs": [
    {
     "data": {
      "text/plain": [
       "(-Inf32, Inf32)"
      ]
     },
     "execution_count": 40,
     "metadata": {},
     "output_type": "execute_result"
    }
   ],
   "source": [
    "(typemin(Float32),typemax(Float32))"
   ]
  },
  {
   "cell_type": "code",
   "execution_count": 41,
   "id": "c50afc67",
   "metadata": {},
   "outputs": [
    {
     "data": {
      "text/plain": [
       "(-Inf, Inf)"
      ]
     },
     "execution_count": 41,
     "metadata": {},
     "output_type": "execute_result"
    }
   ],
   "source": [
    "(typemin(Float64),typemax(Float64))"
   ]
  },
  {
   "cell_type": "markdown",
   "id": "e046f735",
   "metadata": {},
   "source": [
    "#### Machine epsilon\n",
    "Machine epsilon is the distance between two adjacent representable floating-point numbers. It is important to know machine epsilon because most of the real numbers cannot be represented exactly with floating-point numbers.\n",
    "\n",
    "In Julia, we have eps() function that gives us the distance between 1.0 and the next larger representable floating-point value. The example is given below −"
   ]
  },
  {
   "cell_type": "code",
   "execution_count": 42,
   "id": "3e23019e",
   "metadata": {},
   "outputs": [
    {
     "data": {
      "text/plain": [
       "1.1920929f-7"
      ]
     },
     "execution_count": 42,
     "metadata": {},
     "output_type": "execute_result"
    }
   ],
   "source": [
    "eps(Float32)"
   ]
  },
  {
   "cell_type": "code",
   "execution_count": 43,
   "id": "b641bd8b",
   "metadata": {},
   "outputs": [
    {
     "data": {
      "text/plain": [
       "2.220446049250313e-16"
      ]
     },
     "execution_count": 43,
     "metadata": {},
     "output_type": "execute_result"
    }
   ],
   "source": [
    "eps(Float64)"
   ]
  },
  {
   "cell_type": "markdown",
   "id": "46d9c52f",
   "metadata": {},
   "source": [
    "#### Rounding modes\n",
    "As we know that the number should be rounded to an appropriate representable value if it does not have an exact floating-point representation. Julia uses the default mode called RoundNearest. It rounds to the nearest integer, with ties being rounded to the nearest even integer. For example,"
   ]
  },
  {
   "cell_type": "code",
   "execution_count": 44,
   "id": "cc812c63",
   "metadata": {},
   "outputs": [
    {
     "data": {
      "text/plain": [
       "1.5"
      ]
     },
     "execution_count": 44,
     "metadata": {},
     "output_type": "execute_result"
    }
   ],
   "source": [
    "BigFloat(\"1.510564889\",2,RoundNearest)"
   ]
  },
  {
   "cell_type": "markdown",
   "id": "6bcfa666",
   "metadata": {},
   "source": [
    "### Rational and Complex numbers"
   ]
  },
  {
   "cell_type": "markdown",
   "id": "bae8cd6c",
   "metadata": {},
   "source": [
    "#### Rational Numbers\n",
    "Julia represents exact ratios of integers with the help of rational number type. Let us understand about rational numbers in Julia in further sections −\n",
    "\n",
    "#### Constructing rational numbers\n",
    "In Julia REPL, the rational numbers are constructed by using the operator //. Below given is the example for the same "
   ]
  },
  {
   "cell_type": "code",
   "execution_count": 1,
   "id": "53769b2f",
   "metadata": {},
   "outputs": [
    {
     "data": {
      "text/plain": [
       "4//5"
      ]
     },
     "execution_count": 1,
     "metadata": {},
     "output_type": "execute_result"
    }
   ],
   "source": [
    "4//5"
   ]
  },
  {
   "cell_type": "code",
   "execution_count": 2,
   "id": "344771ed",
   "metadata": {},
   "outputs": [
    {
     "data": {
      "text/plain": [
       "(8, 9)"
      ]
     },
     "execution_count": 2,
     "metadata": {},
     "output_type": "execute_result"
    }
   ],
   "source": [
    "numerator(8//9), denominator(8//9)"
   ]
  },
  {
   "cell_type": "code",
   "execution_count": 3,
   "id": "e1a1c3a5",
   "metadata": {},
   "outputs": [
    {
     "data": {
      "text/plain": [
       "0.6666666666666666"
      ]
     },
     "execution_count": 3,
     "metadata": {},
     "output_type": "execute_result"
    }
   ],
   "source": [
    "float(2//3)"
   ]
  },
  {
   "cell_type": "markdown",
   "id": "a917e6c2",
   "metadata": {},
   "source": [
    "#### Complex Numbers\n",
    "As we know that the global constant im, which represents the principal square root of -1, is bound to the complex number. This binding in Julia suffice to provide convenient syntax for complex numbers because Julia allows numeric literals to be contrasted with identifiers as coefficients."
   ]
  },
  {
   "cell_type": "code",
   "execution_count": 4,
   "id": "d82b9d42",
   "metadata": {},
   "outputs": [
    {
     "data": {
      "text/plain": [
       "2 + 3im"
      ]
     },
     "execution_count": 4,
     "metadata": {},
     "output_type": "execute_result"
    }
   ],
   "source": [
    "2+3im"
   ]
  },
  {
   "cell_type": "markdown",
   "id": "1277a388",
   "metadata": {},
   "source": [
    "#### Performing Standard arithmetic operations\n",
    "We can perform all the standard arithmetic operations on complex numbers. The example are given below −"
   ]
  },
  {
   "cell_type": "code",
   "execution_count": 5,
   "id": "3a9b8f7d",
   "metadata": {},
   "outputs": [
    {
     "data": {
      "text/plain": [
       "8 - 1im"
      ]
     },
     "execution_count": 5,
     "metadata": {},
     "output_type": "execute_result"
    }
   ],
   "source": [
    "(2 + 3im)*(1 - 2im)"
   ]
  },
  {
   "cell_type": "markdown",
   "id": "a7828f2f",
   "metadata": {},
   "source": [
    "#### Combining different operands\n",
    "The promotion mechanism in Julia ensures that combining different kind of operators works fine on complex numbers. Let us understand it with the help of the following example −"
   ]
  },
  {
   "cell_type": "markdown",
   "id": "5408a49e",
   "metadata": {},
   "source": [
    "#### Functions to manipulate complex values\n",
    "In Julia, we can also manipulate the values of complex numbers with the help of standard functions."
   ]
  },
  {
   "cell_type": "code",
   "execution_count": 7,
   "id": "a520aa5e",
   "metadata": {},
   "outputs": [
    {
     "data": {
      "text/plain": [
       "4"
      ]
     },
     "execution_count": 7,
     "metadata": {},
     "output_type": "execute_result"
    }
   ],
   "source": [
    "real(4+7im) #real part of complex number"
   ]
  },
  {
   "cell_type": "code",
   "execution_count": 8,
   "id": "5db03b35",
   "metadata": {},
   "outputs": [
    {
     "data": {
      "text/plain": [
       "7"
      ]
     },
     "execution_count": 8,
     "metadata": {},
     "output_type": "execute_result"
    }
   ],
   "source": [
    "imag(4+7im) #imaginary part of complex number"
   ]
  },
  {
   "cell_type": "code",
   "execution_count": 9,
   "id": "381738d4",
   "metadata": {},
   "outputs": [
    {
     "data": {
      "text/plain": [
       "4 - 7im"
      ]
     },
     "execution_count": 9,
     "metadata": {},
     "output_type": "execute_result"
    }
   ],
   "source": [
    "conj(4+7im) # conjugate of complex number"
   ]
  },
  {
   "cell_type": "code",
   "execution_count": 10,
   "id": "fd05a731",
   "metadata": {},
   "outputs": [
    {
     "data": {
      "text/plain": [
       "8.06225774829855"
      ]
     },
     "execution_count": 10,
     "metadata": {},
     "output_type": "execute_result"
    }
   ],
   "source": [
    "abs(4+7im) # absolute value of complex number"
   ]
  },
  {
   "cell_type": "code",
   "execution_count": 11,
   "id": "203115ea",
   "metadata": {},
   "outputs": [
    {
     "data": {
      "text/plain": [
       "65"
      ]
     },
     "execution_count": 11,
     "metadata": {},
     "output_type": "execute_result"
    }
   ],
   "source": [
    "abs2(4+7im) #squared absolute value"
   ]
  },
  {
   "cell_type": "code",
   "execution_count": 12,
   "id": "ccc4376f",
   "metadata": {},
   "outputs": [
    {
     "data": {
      "text/plain": [
       "1.0516502125483738"
      ]
     },
     "execution_count": 12,
     "metadata": {},
     "output_type": "execute_result"
    }
   ],
   "source": [
    "angle(4+7im) #phase angle in radians"
   ]
  },
  {
   "cell_type": "code",
   "execution_count": 13,
   "id": "cde68983",
   "metadata": {},
   "outputs": [
    {
     "data": {
      "text/plain": [
       "1.8708286933869707 + 1.8708286933869707im"
      ]
     },
     "execution_count": 13,
     "metadata": {},
     "output_type": "execute_result"
    }
   ],
   "source": [
    "sqrt(7im) #square root of imaginary part"
   ]
  },
  {
   "cell_type": "code",
   "execution_count": 14,
   "id": "c43a9eba",
   "metadata": {},
   "outputs": [
    {
     "data": {
      "text/plain": [
       "2.455835677350843 + 1.4251767869809258im"
      ]
     },
     "execution_count": 14,
     "metadata": {},
     "output_type": "execute_result"
    }
   ],
   "source": [
    "sqrt(4+7im) #square root of complex number"
   ]
  },
  {
   "cell_type": "code",
   "execution_count": 15,
   "id": "a2726f4c",
   "metadata": {},
   "outputs": [
    {
     "data": {
      "text/plain": [
       "-358.40393224005317 + 414.96701031076253im"
      ]
     },
     "execution_count": 15,
     "metadata": {},
     "output_type": "execute_result"
    }
   ],
   "source": [
    "cos(4+7im) #cosine of complex number"
   ]
  },
  {
   "cell_type": "code",
   "execution_count": 16,
   "id": "b46fb249",
   "metadata": {},
   "outputs": [
    {
     "data": {
      "text/plain": [
       "41.16166839296141 + 35.87025288661357im"
      ]
     },
     "execution_count": 16,
     "metadata": {},
     "output_type": "execute_result"
    }
   ],
   "source": [
    "exp(4+7im) #exponential of complex number"
   ]
  },
  {
   "cell_type": "code",
   "execution_count": 17,
   "id": "8bd2458b",
   "metadata": {},
   "outputs": [
    {
     "data": {
      "text/plain": [
       "20.573930095756726 + 17.941143007955223im"
      ]
     },
     "execution_count": 17,
     "metadata": {},
     "output_type": "execute_result"
    }
   ],
   "source": [
    "sinh(4+7im) #Hyperbolic sine value of complex number"
   ]
  },
  {
   "cell_type": "markdown",
   "id": "b4fb4c4a",
   "metadata": {},
   "source": [
    "### Operators"
   ]
  },
  {
   "cell_type": "raw",
   "id": "85e2170d",
   "metadata": {},
   "source": [
    "Arithmetic Operator\n",
    "---------------------\n",
    "+x : unary plus -> It is the identity operation.\n",
    "-x : unary minus -> It's the additive inverse of the number.\n",
    "Other operators: +, -, *, /, ÷ (integer devide)\n",
    "x\\y: its like y/x -> Inverse devide\n",
    "^ : Power\n",
    "% : Remainder\n",
    "! : Negation"
   ]
  },
  {
   "cell_type": "raw",
   "id": "d4faa699",
   "metadata": {},
   "source": [
    "Bitwise Operator\n",
    "----------------\n",
    "~ : Bitwise not\n",
    "&, |, Bitwise and, bitwise or\n",
    "⊻ : Bitwise xor\n",
    ">>> : Logical right shift\n",
    ">> : Arithmetic right shift\n",
    "<< : arithmetic left shift"
   ]
  },
  {
   "cell_type": "raw",
   "id": "e6a76529",
   "metadata": {},
   "source": [
    "Update operator\n",
    "----------------\n",
    "+=, -=, *=, /=, \\=, ÷=, %=, ^=, &=, |=, ⊻=, >>>=, >>=, <<="
   ]
  },
  {
   "cell_type": "markdown",
   "id": "2ae2301a",
   "metadata": {},
   "source": [
    "#### Vectorized “dot” Operators\n",
    "For each binary operation like ^, there is a corresponding “dot”(.) operation which is used on the entire array, one by one. For instance, if you would try to perform [1, 2, 3] ^ 2, then it is not defined and not possible to square an array. On the other hand, [1, 2, 3] .^ 2 is defined as computing the vectorized result. In the same sense, this vectorized “dot” operator can also be used with other binary operators."
   ]
  },
  {
   "cell_type": "code",
   "execution_count": 18,
   "id": "ef0c6e89",
   "metadata": {},
   "outputs": [
    {
     "data": {
      "text/plain": [
       "3-element Array{Int64,1}:\n",
       " 1\n",
       " 4\n",
       " 9"
      ]
     },
     "execution_count": 18,
     "metadata": {},
     "output_type": "execute_result"
    }
   ],
   "source": [
    "[1, 2, 3].^2"
   ]
  },
  {
   "cell_type": "raw",
   "id": "15834dec",
   "metadata": {},
   "source": [
    "Numeric Comparision\n",
    "-------------------\n",
    "==, !=, < , > , <=, >="
   ]
  },
  {
   "cell_type": "markdown",
   "id": "86517575",
   "metadata": {},
   "source": [
    "#### Chaining Comparisons\n",
    "In Julia, the comparisons can be arbitrarily chained. In case of numerical code, the chaining comparisons are quite convenient. The && operator for scalar comparisons and & operator for elementwise comparison allows chained comparisons to work fine on arrays."
   ]
  },
  {
   "cell_type": "markdown",
   "id": "bba0a60a",
   "metadata": {},
   "source": [
    "### Operator precedence\n",
    "We can also use Base.operator_precedence function to check the numerical precedence of a given operator. The example is given below −"
   ]
  },
  {
   "cell_type": "markdown",
   "id": "48a1daf4",
   "metadata": {},
   "source": [
    "### Basic Mathematical Operator"
   ]
  },
  {
   "cell_type": "markdown",
   "id": "7a0462b7",
   "metadata": {},
   "source": [
    "#### Numerical Conversions\n",
    "In Julia, the user gets three different forms of numerical conversion. All the three differ in their handling of inexact conversions."
   ]
  },
  {
   "cell_type": "markdown",
   "id": "c259b2e9",
   "metadata": {},
   "source": [
    "T(x) or convert(T, x) − This notation converts x to a value of T. The result depends upon following two cases −\n",
    "\n",
    "T is a floating-point type − In this case the result will be the nearest representable value. This value could be positive or negative infinity.\n",
    "\n",
    "T is an integer type − The result will raise an InexactError if and only if x is not representable by T.\n",
    "\n",
    "x%T − This notation will convert an integer x to a value of integer type T corresponding to x modulo 2^n. Here n represents the number of bits in T. In simple words, this notation truncates the binary representation to fit.\n",
    "\n",
    "Rounding functions − This notation takes a type T as an optional argument for calculation. Eg − Round(Int, a) is shorthand for Int(round(a))."
   ]
  },
  {
   "cell_type": "code",
   "execution_count": 19,
   "id": "b823dba1",
   "metadata": {},
   "outputs": [
    {
     "data": {
      "text/plain": [
       "110"
      ]
     },
     "execution_count": 19,
     "metadata": {},
     "output_type": "execute_result"
    }
   ],
   "source": [
    "Int8(110)"
   ]
  },
  {
   "cell_type": "code",
   "execution_count": 20,
   "id": "987b0864",
   "metadata": {},
   "outputs": [
    {
     "ename": "LoadError",
     "evalue": "\u001b[91mInexactError: trunc(Int8, 128)\u001b[39m",
     "output_type": "error",
     "traceback": [
      "\u001b[91mInexactError: trunc(Int8, 128)\u001b[39m",
      "",
      "Stacktrace:",
      " [1] throw_inexacterror(::Symbol, ::Type{Int8}, ::Int64) at ./boot.jl:558",
      " [2] checked_trunc_sint at ./boot.jl:580 [inlined]",
      " [3] toInt8 at ./boot.jl:595 [inlined]",
      " [4] Int8(::Int64) at ./boot.jl:705",
      " [5] top-level scope at In[20]:1",
      " [6] include_string(::Function, ::Module, ::String, ::String) at ./loading.jl:1091"
     ]
    }
   ],
   "source": [
    "Int8(128)"
   ]
  },
  {
   "cell_type": "code",
   "execution_count": 21,
   "id": "b178c2d2",
   "metadata": {},
   "outputs": [
    {
     "data": {
      "text/plain": [
       "110"
      ]
     },
     "execution_count": 21,
     "metadata": {},
     "output_type": "execute_result"
    }
   ],
   "source": [
    "Int8(110.0)"
   ]
  },
  {
   "cell_type": "code",
   "execution_count": 22,
   "id": "7377b5ed",
   "metadata": {},
   "outputs": [
    {
     "ename": "LoadError",
     "evalue": "\u001b[91mInexactError: Int8(3.14)\u001b[39m",
     "output_type": "error",
     "traceback": [
      "\u001b[91mInexactError: Int8(3.14)\u001b[39m",
      "",
      "Stacktrace:",
      " [1] Int8(::Float64) at ./float.jl:689",
      " [2] top-level scope at In[22]:1",
      " [3] include_string(::Function, ::Module, ::String, ::String) at ./loading.jl:1091"
     ]
    }
   ],
   "source": [
    "Int8(3.14)"
   ]
  },
  {
   "cell_type": "code",
   "execution_count": 23,
   "id": "c75cea92",
   "metadata": {},
   "outputs": [
    {
     "data": {
      "text/plain": [
       "110"
      ]
     },
     "execution_count": 23,
     "metadata": {},
     "output_type": "execute_result"
    }
   ],
   "source": [
    "110%Int8"
   ]
  },
  {
   "cell_type": "markdown",
   "id": "642b717e",
   "metadata": {},
   "source": [
    "1. round(x): This function will round x to the nearest integer.\t\n",
    "2. round(T, x): This function will round x to the nearest integer.\n",
    "3. floor(x): This function will round x towards -Inf returns the nearest integral value of the same type as x. This value will be less than or equal to x.\n",
    "4. floor(T, x): This function will round x towards -Inf and converts the result to type T. It will throw an InexactError if the value is not representable.\t\n",
    "5. floor(T, x): This function will round x towards -Inf and converts the result to type T. It will throw an InexactError if the value is not representable.\n",
    "6. ceil(x): This function will round x towards +Inf and returns the nearest integral value of the same type as x. This value will be greater than or equal to x.\n",
    "7. ceil(T, x): This function will round x towards +Inf and converts the result to type T. It will throw an InexactError if the value is not representable.\n",
    "8. trunc(x): This function will round x towards zero and returns the nearest integral value of the same type as x. The absolute value will be less than or equal to x.\t\n",
    "9. trunc(T, x): This function will round x towards zero and converts the result to type T. It will throw an InexactError if the value is not representable."
   ]
  },
  {
   "cell_type": "code",
   "execution_count": 1,
   "id": "47345922",
   "metadata": {},
   "outputs": [
    {
     "data": {
      "text/plain": [
       "4.0"
      ]
     },
     "execution_count": 1,
     "metadata": {},
     "output_type": "execute_result"
    }
   ],
   "source": [
    "round(3.8)"
   ]
  },
  {
   "cell_type": "code",
   "execution_count": 2,
   "id": "3eee3e40",
   "metadata": {},
   "outputs": [
    {
     "data": {
      "text/plain": [
       "4"
      ]
     },
     "execution_count": 2,
     "metadata": {},
     "output_type": "execute_result"
    }
   ],
   "source": [
    "round(Int, 3.8)"
   ]
  },
  {
   "cell_type": "markdown",
   "id": "6591e781",
   "metadata": {},
   "source": [
    "### Division functions"
   ]
  },
  {
   "cell_type": "markdown",
   "id": "dc289605",
   "metadata": {},
   "source": [
    "1. div(x,y), x÷y: It is the quotation from Euclidean division. Also called truncated division. It computes x/y and the quotient will be rounded towards zero.\n",
    "2. fld(x,y): It is the floored division. The quotient will be rounded towards -Inf i.e. largest integer less than or equal to x/y. It is shorthand for div(x, y, RoundDown).\n",
    "3. cld(x,y): It is ceiling division. The quotient will be rounded towards +Inf i.e. smallest integer less than or equal to x/y. It is shorthand for div(x, y, RoundUp).\n",
    "4. rem(x,y): remainder; satisfies x == div(x,y)*y + rem(x,y); sign matches x\n",
    "5. mod(x,y): It is modulus after flooring division. This function satisfies the equation x == fld(x,y)*y + mod(x,y). The sign matches y.\n",
    "6. mod1(x,y): This is same as mod with offset 1. It returns r∈(0,y] for y>0 or r∈\\[y,0) for y<0, where mod(r, y) == mod(x, y).\n",
    "7. mod2pi(x): It is modulus with respect to 2pi. It satisfies 0 <= mod2pi(x) < 2pi\n",
    "8. divrem(x,y): It is the quotient and remainder from Euclidean division. It equivalents to (div(x,y),rem(x,y)).\n",
    "9. fldmod(x,y): It is the floored quotation and modulus after division. It is equivalent to (fld(x,y),mod(x,y))\n",
    "10. gcd(x,y...): It is the greatest positive common divisor of x, y,...\n",
    "11. lcm(x,y...): It represents the least positive common multiple of x, y,..."
   ]
  },
  {
   "cell_type": "markdown",
   "id": "f903b122",
   "metadata": {},
   "source": [
    "### Sign and Absolute value functions"
   ]
  },
  {
   "cell_type": "markdown",
   "id": "c98a6861",
   "metadata": {},
   "source": [
    "1. abs(x): It the absolute value of x. It returns a positive value with the magnitude of x.\n",
    "2. abs2(x): It returns the squared absolute value of x.\n",
    "3. sign(x): This function indicates the sign of x. It will return -1, 0, or +1.\n",
    "4. signbit(x): This function indicates whether the sign bit is on (true) or off (false). In simple words, it will return true if the value of the sign of x is -ve, otherwise it will return false.\n",
    "5. copysign(x,y): It returns a value Z which has the magnitude of x and the same sign as y.\n",
    "6. flipsign(x,y): It returns a value with the magnitude of x and the sign of x*y. The sign will be flipped if y is negative. Example: abs(x) = flipsign(x,x)."
   ]
  },
  {
   "cell_type": "markdown",
   "id": "b362b783",
   "metadata": {},
   "source": [
    "### Power, Logs, and Roots"
   ]
  },
  {
   "cell_type": "markdown",
   "id": "5b5f7cbf",
   "metadata": {},
   "source": [
    "1. sqrt(x), √x: It will return the square root of x. For negative real arguments, it will throw DomainError.\n",
    "2. cbrt(x), ∛x: It will return the cube root of x. It also accepts the negative values.\n",
    "3. hypot(x,y): It will compute the hypotenuse √|𝑥|2+|𝑦|2of right-angled triangle with other sides of length x and y. It is an implementation of an improved algorithm for hypot(a,b) by Carlos and F.Borges.\n",
    "4. exp(x): It will compute the natural base exponential of x i.e. 𝑒𝑥\n",
    "5. expm1(x): It will accurately compute 𝑒𝑥−1 for x near zero.\n",
    "6. ldexp(x,n): It will compute 𝑋 ∗ 2𝑛 efficiently for integer values of n.\n",
    "7. log(x): It will compute the natural logarithm of x. For negative real arguments, it will throw DomainError.\n",
    "8. log(b,x): It will compute the base b logarithm of x. For negative real arguments, it will throw DomainError.\n",
    "9. log2(x): It will compute the base 2 logarithm of x. For negative real arguments, it will throw DomainError.\n",
    "10. log10(x): It will compute the base 10 logarithm of x. For negative real arguments, it will throw DomainError.\n",
    "11. log1p(x): It will accurately compute the log(1+x) for x near zero. For negative real arguments, it will throw DomainError.\n",
    "12. exponent(x): It will calculate the binary exponent of x.\n",
    "13. significand(x): It will extract the binary significand (a.k.a. mantissa) of a floating-point number x in binary representation. If x = non-zero finite number, it will return a number of the same type on the interval \\[1,2), else x will be returned."
   ]
  },
  {
   "cell_type": "raw",
   "id": "b619aaea",
   "metadata": {},
   "source": [
    "### Trigonometric and hyperbolic functions\n",
    "\n",
    "sin   cos   tan   cot   sec   csc\n",
    "sinh  cosh  tanh  coth  sech  csch\n",
    "asin  acos  atan  acot  asec  acsc\n",
    "asinh acosh atanh acoth asech acsch\n",
    "sinc  cosc"
   ]
  },
  {
   "cell_type": "raw",
   "id": "f3b09923",
   "metadata": {},
   "source": [
    "If you want to compute the trigonometric functions with degrees, then suffix the functions with d as follows −\n",
    "\n",
    "sind  cosd  tand  cotd  secd  cscd\n",
    "asind acosd atand acotd asecd acscd"
   ]
  },
  {
   "cell_type": "markdown",
   "id": "d7948f59",
   "metadata": {},
   "source": [
    "### String"
   ]
  },
  {
   "cell_type": "markdown",
   "id": "3c6c72ff",
   "metadata": {},
   "source": [
    "A string may be defined as a finite sequence of one or more characters. They are usually enclosed in double quotes. \n",
    "\n",
    "1. Strings are immutable, i.e., we cannot change them once they are created.\n",
    "2. It needs utmost care while using two specific characters − double quotes(“), and dollar sign\\($). It is because if we want to include a double quote character in the string then it must precede with a backslash; otherwise we will get different results because then the rest of the string would be interpreted as Julia code. On the other hand, if we want to include a dollar sign then it must also precede with a backslash because dollar sign is used in string interpolation./p>\n",
    "3. In Julia, the built-in concrete type used for strings as well as string literals is String which supports full range of Unicode characters via the UTF-8 encoding.\n",
    "4. All the string types in Julia are subtypes of the abstract type AbstractString. If you want Julia to accept any string type, you need to declare the type as AbstractString.\n",
    "5. Julia has a first-class type for representing single character. It is called AbstractChar."
   ]
  },
  {
   "cell_type": "code",
   "execution_count": 1,
   "id": "b30885bc",
   "metadata": {},
   "outputs": [
    {
     "data": {
      "text/plain": [
       "'a': ASCII/Unicode U+0061 (category Ll: Letter, lowercase)"
      ]
     },
     "execution_count": 1,
     "metadata": {},
     "output_type": "execute_result"
    }
   ],
   "source": [
    "'a'"
   ]
  },
  {
   "cell_type": "code",
   "execution_count": 2,
   "id": "341afdf4",
   "metadata": {},
   "outputs": [
    {
     "data": {
      "text/plain": [
       "Char"
      ]
     },
     "execution_count": 2,
     "metadata": {},
     "output_type": "execute_result"
    }
   ],
   "source": [
    "typeof(ans)"
   ]
  },
  {
   "cell_type": "code",
   "execution_count": 5,
   "id": "b340265e",
   "metadata": {},
   "outputs": [
    {
     "data": {
      "text/plain": [
       "'a': ASCII/Unicode U+0061 (category Ll: Letter, lowercase)"
      ]
     },
     "execution_count": 5,
     "metadata": {},
     "output_type": "execute_result"
    }
   ],
   "source": [
    "Char(97)"
   ]
  },
  {
   "cell_type": "code",
   "execution_count": 6,
   "id": "59f393d1",
   "metadata": {},
   "outputs": [
    {
     "data": {
      "text/plain": [
       "true"
      ]
     },
     "execution_count": 6,
     "metadata": {},
     "output_type": "execute_result"
    }
   ],
   "source": [
    "# With Char values, we can do some arithmetic as well as comparisons.\n",
    "'X' < 'x'"
   ]
  },
  {
   "cell_type": "code",
   "execution_count": 7,
   "id": "5c9b7c5c",
   "metadata": {},
   "outputs": [
    {
     "data": {
      "text/plain": [
       "false"
      ]
     },
     "execution_count": 7,
     "metadata": {},
     "output_type": "execute_result"
    }
   ],
   "source": [
    "'X' <= 'x' <= 'Y'"
   ]
  },
  {
   "cell_type": "code",
   "execution_count": 8,
   "id": "d5ee1855",
   "metadata": {},
   "outputs": [
    {
     "data": {
      "text/plain": [
       "false"
      ]
     },
     "execution_count": 8,
     "metadata": {},
     "output_type": "execute_result"
    }
   ],
   "source": [
    "'X' <= 'a' <= 'Y'"
   ]
  },
  {
   "cell_type": "code",
   "execution_count": 9,
   "id": "72235613",
   "metadata": {},
   "outputs": [
    {
     "data": {
      "text/plain": [
       "22"
      ]
     },
     "execution_count": 9,
     "metadata": {},
     "output_type": "execute_result"
    }
   ],
   "source": [
    "'x' - 'b'"
   ]
  },
  {
   "cell_type": "code",
   "execution_count": 11,
   "id": "71cead5f",
   "metadata": {},
   "outputs": [
    {
     "data": {
      "text/plain": [
       "'y': ASCII/Unicode U+0079 (category Ll: Letter, lowercase)"
      ]
     },
     "execution_count": 11,
     "metadata": {},
     "output_type": "execute_result"
    }
   ],
   "source": [
    "'z' - 1"
   ]
  },
  {
   "cell_type": "markdown",
   "id": "47af3dab",
   "metadata": {},
   "source": [
    "#### Delimited by double quotes or triple double quotes\n",
    "As we discussed, strings in Julia can be declared using double or triple double quotes. For example, if you need to add quotations to a part in a string, you can do so using double and triple double quotes as shown below −"
   ]
  },
  {
   "cell_type": "code",
   "execution_count": 12,
   "id": "626cf3aa",
   "metadata": {},
   "outputs": [
    {
     "data": {
      "text/plain": [
       "\"This is Julia Programming Language.\\n\""
      ]
     },
     "execution_count": 12,
     "metadata": {},
     "output_type": "execute_result"
    }
   ],
   "source": [
    "str = \"This is Julia Programming Language.\\n\""
   ]
  },
  {
   "cell_type": "code",
   "execution_count": 13,
   "id": "ef892bd0",
   "metadata": {},
   "outputs": [
    {
     "data": {
      "text/plain": [
       "\"See the \\\"quote\\\" characters\""
      ]
     },
     "execution_count": 13,
     "metadata": {},
     "output_type": "execute_result"
    }
   ],
   "source": [
    "\"\"\"See the \"quote\" characters\"\"\""
   ]
  },
  {
   "cell_type": "markdown",
   "id": "082c880c",
   "metadata": {},
   "source": [
    "#### Performing arithmetic and other operations with end\n",
    "Just like a normal value, we can perform arithmetic as well as other operations with end. Check the below given example −"
   ]
  },
  {
   "cell_type": "code",
   "execution_count": 14,
   "id": "db927eb9",
   "metadata": {},
   "outputs": [
    {
     "data": {
      "text/plain": [
       "'.': ASCII/Unicode U+002E (category Po: Punctuation, other)"
      ]
     },
     "execution_count": 14,
     "metadata": {},
     "output_type": "execute_result"
    }
   ],
   "source": [
    "str[end-1]"
   ]
  },
  {
   "cell_type": "markdown",
   "id": "5806cf76",
   "metadata": {},
   "source": [
    "#### Extracting substring by using range indexing\n",
    "We can extract substring from a string by using range indexing. Check the below given example −"
   ]
  },
  {
   "cell_type": "code",
   "execution_count": 15,
   "id": "9bb410e2",
   "metadata": {},
   "outputs": [
    {
     "data": {
      "text/plain": [
       "\"is J\""
      ]
     },
     "execution_count": 15,
     "metadata": {},
     "output_type": "execute_result"
    }
   ],
   "source": [
    "str[6:9]"
   ]
  },
  {
   "cell_type": "markdown",
   "id": "a905489b",
   "metadata": {},
   "source": [
    "#### Using SubString\n",
    "In the above method, the Range indexing makes a copy of selected part of the original string, but we can use SubString to create a view into a string as given in the below example −"
   ]
  },
  {
   "cell_type": "code",
   "execution_count": 16,
   "id": "4a37fe11",
   "metadata": {},
   "outputs": [
    {
     "data": {
      "text/plain": [
       "\"This\""
      ]
     },
     "execution_count": 16,
     "metadata": {},
     "output_type": "execute_result"
    }
   ],
   "source": [
    "substr = SubString(str, 1, 4)"
   ]
  },
  {
   "cell_type": "markdown",
   "id": "40b51778",
   "metadata": {},
   "source": [
    "#### Unicode and UTF-8\n",
    "Unicode characters and strings are fully supported by Julia programming language. In character literals, Unicode \\u and \\U escape sequences as well as all the standard C escape sequences can be used to represent Unicode code points. It is shown in the given example −"
   ]
  },
  {
   "cell_type": "code",
   "execution_count": 17,
   "id": "77a2c7aa",
   "metadata": {},
   "outputs": [
    {
     "data": {
      "text/plain": [
       "\"∀ x ∃ y\""
      ]
     },
     "execution_count": 17,
     "metadata": {},
     "output_type": "execute_result"
    }
   ],
   "source": [
    "s = \"\\u2200 x \\u2203 y\""
   ]
  },
  {
   "cell_type": "markdown",
   "id": "31877a9c",
   "metadata": {},
   "source": [
    "#### String Concatenation\n",
    "Concatenation is one of the most useful string operations. Following is an example of concatenation −"
   ]
  },
  {
   "cell_type": "code",
   "execution_count": 18,
   "id": "d04ebe75",
   "metadata": {},
   "outputs": [
    {
     "data": {
      "text/plain": [
       "\"Hello, Julia Programming Language.\\n\""
      ]
     },
     "execution_count": 18,
     "metadata": {},
     "output_type": "execute_result"
    }
   ],
   "source": [
    "A = \"Hello\"\n",
    "B = \"Julia Programming Language\"\n",
    "string(A, \", \", B, \".\\n\")"
   ]
  },
  {
   "cell_type": "markdown",
   "id": "6510f391",
   "metadata": {},
   "source": [
    "#### Interpolation\n",
    "It is bit cumbersome to concatenate strings using concatenation. Therefore, Julia allows interpolation into strings and reduce the need for these verbose calls to strings. This interpolation can be done by using dollar sign ($). For example −"
   ]
  },
  {
   "cell_type": "code",
   "execution_count": 19,
   "id": "cbe59e72",
   "metadata": {},
   "outputs": [
    {
     "data": {
      "text/plain": [
       "\"Hello, Julia Programming Language.\\n\""
      ]
     },
     "execution_count": 19,
     "metadata": {},
     "output_type": "execute_result"
    }
   ],
   "source": [
    "\"$A, $B.\\n\""
   ]
  },
  {
   "cell_type": "code",
   "execution_count": 20,
   "id": "1ac840eb",
   "metadata": {},
   "outputs": [
    {
     "data": {
      "text/plain": [
       "\"100 + 10 = 110\""
      ]
     },
     "execution_count": 20,
     "metadata": {},
     "output_type": "execute_result"
    }
   ],
   "source": [
    "\"100 + 10 = $(100 + 10)\""
   ]
  },
  {
   "cell_type": "code",
   "execution_count": 21,
   "id": "924774a0",
   "metadata": {},
   "outputs": [
    {
     "data": {
      "text/plain": [
       "\"   This is,\\n   Julia Programming Language.\\n\""
      ]
     },
     "execution_count": 21,
     "metadata": {},
     "output_type": "execute_result"
    }
   ],
   "source": [
    "str = \"\"\"\n",
    "                  This is,\n",
    "                  Julia Programming Language.\n",
    "               \"\"\"\n"
   ]
  },
  {
   "cell_type": "code",
   "execution_count": 22,
   "id": "8378d4d0",
   "metadata": {},
   "outputs": [
    {
     "data": {
      "text/plain": [
       "false"
      ]
     },
     "execution_count": 22,
     "metadata": {},
     "output_type": "execute_result"
    }
   ],
   "source": [
    "\"abababab\" < \"Tutorialspoint\""
   ]
  },
  {
   "cell_type": "markdown",
   "id": "47f884fe",
   "metadata": {},
   "source": [
    "#### Search operators\n",
    "Julia provides us findfirst and findlast functions to search for the index of a particular character in string. You can check the below example of both these functions −"
   ]
  },
  {
   "cell_type": "code",
   "execution_count": 23,
   "id": "66f27b1e",
   "metadata": {},
   "outputs": [
    {
     "data": {
      "text/plain": [
       "4"
      ]
     },
     "execution_count": 23,
     "metadata": {},
     "output_type": "execute_result"
    }
   ],
   "source": [
    "findfirst(isequal('o'), \"Tutorialspoint\")"
   ]
  },
  {
   "cell_type": "code",
   "execution_count": 25,
   "id": "ed05493d",
   "metadata": {},
   "outputs": [
    {
     "data": {
      "text/plain": [
       "4"
      ]
     },
     "execution_count": 25,
     "metadata": {},
     "output_type": "execute_result"
    }
   ],
   "source": [
    "findnext(isequal('o'), \"Tutorialspoint\", 1)"
   ]
  },
  {
   "cell_type": "code",
   "execution_count": 27,
   "id": "7a1ea10d",
   "metadata": {},
   "outputs": [
    {
     "data": {
      "text/plain": [
       "11"
      ]
     },
     "execution_count": 27,
     "metadata": {},
     "output_type": "execute_result"
    }
   ],
   "source": [
    "findnext(isequal('o'), \"Tutorialspoint\", 5)"
   ]
  },
  {
   "cell_type": "code",
   "execution_count": 28,
   "id": "8f20a17c",
   "metadata": {},
   "outputs": [
    {
     "data": {
      "text/plain": [
       "true"
      ]
     },
     "execution_count": 28,
     "metadata": {},
     "output_type": "execute_result"
    }
   ],
   "source": [
    "occursin(\"Julia\", \"This is, Julia Programming.\")"
   ]
  },
  {
   "cell_type": "markdown",
   "id": "8878a464",
   "metadata": {},
   "source": [
    "#### The repeat() and join() functions\n",
    "In the perspective of Strings in Julia, repeat and join are two useful functions. Example below explains their use −"
   ]
  },
  {
   "cell_type": "code",
   "execution_count": 29,
   "id": "eee83c3c",
   "metadata": {},
   "outputs": [
    {
     "data": {
      "text/plain": [
       "\"Tutorialspoint.com Tutorialspoint.com Tutorialspoint.com Tutorialspoint.com Tutorialspoint.com \""
      ]
     },
     "execution_count": 29,
     "metadata": {},
     "output_type": "execute_result"
    }
   ],
   "source": [
    "repeat(\"Tutorialspoint.com \", 5)"
   ]
  },
  {
   "cell_type": "code",
   "execution_count": 30,
   "id": "3682d256",
   "metadata": {},
   "outputs": [
    {
     "data": {
      "text/plain": [
       "\"TutorialsPoint . com\""
      ]
     },
     "execution_count": 30,
     "metadata": {},
     "output_type": "execute_result"
    }
   ],
   "source": [
    "join([\"TutorialsPoint\",\"com\"], \" . \")"
   ]
  },
  {
   "cell_type": "markdown",
   "id": "23cec1b0",
   "metadata": {},
   "source": [
    "### Non-standard String Literals\n",
    "Literal is a character or a set of characters which is used to store a variable.\n",
    "\n",
    "#### Raw String Literals\n",
    "Raw String literals are another useful non-standard string literal. They, without interpolation or unescaping can be expressed in the form of raw”…”. They create ordinary String objects containing enclosed contents same as entered without interpolation or unescaping."
   ]
  },
  {
   "cell_type": "code",
   "execution_count": 31,
   "id": "1bc37f3f",
   "metadata": {},
   "outputs": [
    {
     "name": "stdout",
     "output_type": "stream",
     "text": [
      "\\\\ \\\"\n"
     ]
    }
   ],
   "source": [
    "println(raw\"\\\\ \\\\\\\"\")"
   ]
  },
  {
   "cell_type": "markdown",
   "id": "4f9de5ff",
   "metadata": {},
   "source": [
    "#### Byte Array Literals\n",
    "Byte array literals is one of the most useful non-standard string literals. It has the following rules −\n",
    "1. ASCII characters as well as escapes will produce a single byte.\n",
    "2. Octal escape sequence as well as \\x will produce the byte corresponding to the escape value.\n",
    "3. The Unicode escape sequence will produce a sequence of bytes encoding."
   ]
  },
  {
   "cell_type": "code",
   "execution_count": 32,
   "id": "94e3edb3",
   "metadata": {},
   "outputs": [
    {
     "data": {
      "text/plain": [
       "8-element Base.CodeUnits{UInt8,String}:\n",
       " 0x44\n",
       " 0x41\n",
       " 0x54\n",
       " 0x41\n",
       " 0xff\n",
       " 0xe2\n",
       " 0x88\n",
       " 0x80"
      ]
     },
     "execution_count": 32,
     "metadata": {},
     "output_type": "execute_result"
    }
   ],
   "source": [
    "b\"DATA\\xff\\u2200\""
   ]
  },
  {
   "cell_type": "code",
   "execution_count": 33,
   "id": "03ae9bd5",
   "metadata": {},
   "outputs": [
    {
     "data": {
      "text/plain": [
       "false"
      ]
     },
     "execution_count": 33,
     "metadata": {},
     "output_type": "execute_result"
    }
   ],
   "source": [
    "# The above resulting byte array is not a valid UTF-8 string as you can see below −\n",
    "isvalid(\"DATA\\xff\\u2200\")"
   ]
  },
  {
   "cell_type": "markdown",
   "id": "6054d4d1",
   "metadata": {},
   "source": [
    "#### Version Number Literals\n",
    "Version Number literals are another useful non-standard string literal. They can be the form of v”…”. VNL create objects namely VersionNumber. These objects follow the specifications of semantic versioning."
   ]
  },
  {
   "cell_type": "markdown",
   "id": "fdc7b40e",
   "metadata": {},
   "source": [
    "#### Regular Expressions\n",
    "Julia has Perl-compatible Regular Expressions, which are related to strings in the following ways −\n",
    "1. RE are used to find regular patterns in strings.\n",
    "2. RE are themselves input as strings. It is parsed into a state machine which can then be used efficiently to search patterns in strings."
   ]
  },
  {
   "cell_type": "code",
   "execution_count": 34,
   "id": "04dbf18d",
   "metadata": {},
   "outputs": [
    {
     "data": {
      "text/plain": [
       "r\"^\\s*(?:#|$)\""
      ]
     },
     "execution_count": 34,
     "metadata": {},
     "output_type": "execute_result"
    }
   ],
   "source": [
    "r\"^\\s*(?:#|$)\""
   ]
  },
  {
   "cell_type": "code",
   "execution_count": 35,
   "id": "22b4186e",
   "metadata": {},
   "outputs": [
    {
     "data": {
      "text/plain": [
       "Regex"
      ]
     },
     "execution_count": 35,
     "metadata": {},
     "output_type": "execute_result"
    }
   ],
   "source": [
    "typeof(ans)"
   ]
  },
  {
   "cell_type": "markdown",
   "id": "7947a9b3",
   "metadata": {},
   "source": [
    "We can use occursin as follows to check if a regex matches a string or not −"
   ]
  },
  {
   "cell_type": "code",
   "execution_count": 36,
   "id": "eafc88cd",
   "metadata": {},
   "outputs": [
    {
     "data": {
      "text/plain": [
       "false"
      ]
     },
     "execution_count": 36,
     "metadata": {},
     "output_type": "execute_result"
    }
   ],
   "source": [
    "occursin(r\"^\\s*(?:#|$)\", \"not a comment\")"
   ]
  },
  {
   "cell_type": "code",
   "execution_count": 37,
   "id": "5cb2dff6",
   "metadata": {},
   "outputs": [
    {
     "data": {
      "text/plain": [
       "true"
      ]
     },
     "execution_count": 37,
     "metadata": {},
     "output_type": "execute_result"
    }
   ],
   "source": [
    "occursin(r\"^\\s*(?:#|$)\", \"# a comment\")"
   ]
  },
  {
   "cell_type": "code",
   "execution_count": null,
   "id": "77c008b4",
   "metadata": {},
   "outputs": [],
   "source": []
  }
 ],
 "metadata": {
  "kernelspec": {
   "display_name": "Julia 1.5.1",
   "language": "julia",
   "name": "julia-1.5"
  },
  "language_info": {
   "file_extension": ".jl",
   "mimetype": "application/julia",
   "name": "julia",
   "version": "1.5.1"
  }
 },
 "nbformat": 4,
 "nbformat_minor": 5
}
